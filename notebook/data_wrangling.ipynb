{
 "cells": [
  {
   "cell_type": "markdown",
   "metadata": {},
   "source": [
    "## Data Wrangling\n"
   ]
  },
  {
   "cell_type": "code",
   "execution_count": 64,
   "metadata": {},
   "outputs": [],
   "source": [
    "import pandas as pd\n",
    "import numpy as np\n",
    "from scipy.stats import boxcox"
   ]
  },
  {
   "cell_type": "code",
   "execution_count": 65,
   "metadata": {},
   "outputs": [
    {
     "data": {
      "text/html": [
       "<div>\n",
       "<style scoped>\n",
       "    .dataframe tbody tr th:only-of-type {\n",
       "        vertical-align: middle;\n",
       "    }\n",
       "\n",
       "    .dataframe tbody tr th {\n",
       "        vertical-align: top;\n",
       "    }\n",
       "\n",
       "    .dataframe thead th {\n",
       "        text-align: right;\n",
       "    }\n",
       "</style>\n",
       "<table border=\"1\" class=\"dataframe\">\n",
       "  <thead>\n",
       "    <tr style=\"text-align: right;\">\n",
       "      <th></th>\n",
       "      <th>Brand</th>\n",
       "      <th>Battery_capacity(mAh)</th>\n",
       "      <th>Screen_size(inches)</th>\n",
       "      <th>Touchscreen</th>\n",
       "      <th>Processor</th>\n",
       "      <th>RAM(GB)</th>\n",
       "      <th>Internal_storage(GB)</th>\n",
       "      <th>Operating system</th>\n",
       "      <th>Wi-Fi</th>\n",
       "      <th>Bluetooth</th>\n",
       "      <th>GPS</th>\n",
       "      <th>Number of SIMs</th>\n",
       "      <th>3G</th>\n",
       "      <th>4G/ LTE</th>\n",
       "      <th>Price</th>\n",
       "      <th>Resolution_width(px)</th>\n",
       "      <th>Resolution_height(px)</th>\n",
       "      <th>Rear_Camera(MP)</th>\n",
       "      <th>Front_Camera(MP)</th>\n",
       "    </tr>\n",
       "  </thead>\n",
       "  <tbody>\n",
       "    <tr>\n",
       "      <th>0</th>\n",
       "      <td>oneplus</td>\n",
       "      <td>4085</td>\n",
       "      <td>7</td>\n",
       "      <td>Yes</td>\n",
       "      <td>8</td>\n",
       "      <td>12</td>\n",
       "      <td>256</td>\n",
       "      <td>android</td>\n",
       "      <td>Yes</td>\n",
       "      <td>Yes</td>\n",
       "      <td>Yes</td>\n",
       "      <td>2</td>\n",
       "      <td>Yes</td>\n",
       "      <td>Yes</td>\n",
       "      <td>58998</td>\n",
       "      <td>1440</td>\n",
       "      <td>3120</td>\n",
       "      <td>48</td>\n",
       "      <td>16</td>\n",
       "    </tr>\n",
       "    <tr>\n",
       "      <th>1</th>\n",
       "      <td>realme</td>\n",
       "      <td>4000</td>\n",
       "      <td>7</td>\n",
       "      <td>Yes</td>\n",
       "      <td>8</td>\n",
       "      <td>6</td>\n",
       "      <td>64</td>\n",
       "      <td>android</td>\n",
       "      <td>Yes</td>\n",
       "      <td>Yes</td>\n",
       "      <td>Yes</td>\n",
       "      <td>2</td>\n",
       "      <td>Yes</td>\n",
       "      <td>Yes</td>\n",
       "      <td>27999</td>\n",
       "      <td>1080</td>\n",
       "      <td>2400</td>\n",
       "      <td>64</td>\n",
       "      <td>16</td>\n",
       "    </tr>\n",
       "    <tr>\n",
       "      <th>2</th>\n",
       "      <td>apple</td>\n",
       "      <td>3969</td>\n",
       "      <td>7</td>\n",
       "      <td>Yes</td>\n",
       "      <td>6</td>\n",
       "      <td>4</td>\n",
       "      <td>64</td>\n",
       "      <td>ios</td>\n",
       "      <td>Yes</td>\n",
       "      <td>Yes</td>\n",
       "      <td>Yes</td>\n",
       "      <td>2</td>\n",
       "      <td>Yes</td>\n",
       "      <td>Yes</td>\n",
       "      <td>106900</td>\n",
       "      <td>1242</td>\n",
       "      <td>2688</td>\n",
       "      <td>12</td>\n",
       "      <td>12</td>\n",
       "    </tr>\n",
       "    <tr>\n",
       "      <th>3</th>\n",
       "      <td>apple</td>\n",
       "      <td>3110</td>\n",
       "      <td>6</td>\n",
       "      <td>Yes</td>\n",
       "      <td>6</td>\n",
       "      <td>4</td>\n",
       "      <td>64</td>\n",
       "      <td>ios</td>\n",
       "      <td>Yes</td>\n",
       "      <td>Yes</td>\n",
       "      <td>Yes</td>\n",
       "      <td>2</td>\n",
       "      <td>Yes</td>\n",
       "      <td>Yes</td>\n",
       "      <td>62900</td>\n",
       "      <td>828</td>\n",
       "      <td>1792</td>\n",
       "      <td>12</td>\n",
       "      <td>12</td>\n",
       "    </tr>\n",
       "    <tr>\n",
       "      <th>4</th>\n",
       "      <td>lg</td>\n",
       "      <td>4000</td>\n",
       "      <td>6</td>\n",
       "      <td>Yes</td>\n",
       "      <td>8</td>\n",
       "      <td>6</td>\n",
       "      <td>128</td>\n",
       "      <td>android</td>\n",
       "      <td>Yes</td>\n",
       "      <td>Yes</td>\n",
       "      <td>Yes</td>\n",
       "      <td>1</td>\n",
       "      <td>No</td>\n",
       "      <td>No</td>\n",
       "      <td>49990</td>\n",
       "      <td>1080</td>\n",
       "      <td>2340</td>\n",
       "      <td>12</td>\n",
       "      <td>32</td>\n",
       "    </tr>\n",
       "  </tbody>\n",
       "</table>\n",
       "</div>"
      ],
      "text/plain": [
       "     Brand  Battery_capacity(mAh)  Screen_size(inches) Touchscreen  Processor  \\\n",
       "0  oneplus                   4085                    7         Yes          8   \n",
       "1   realme                   4000                    7         Yes          8   \n",
       "2    apple                   3969                    7         Yes          6   \n",
       "3    apple                   3110                    6         Yes          6   \n",
       "4       lg                   4000                    6         Yes          8   \n",
       "\n",
       "   RAM(GB)  Internal_storage(GB) Operating system Wi-Fi Bluetooth  GPS  \\\n",
       "0       12                   256          android   Yes       Yes  Yes   \n",
       "1        6                    64          android   Yes       Yes  Yes   \n",
       "2        4                    64              ios   Yes       Yes  Yes   \n",
       "3        4                    64              ios   Yes       Yes  Yes   \n",
       "4        6                   128          android   Yes       Yes  Yes   \n",
       "\n",
       "   Number of SIMs   3G 4G/ LTE   Price  Resolution_width(px)  \\\n",
       "0               2  Yes     Yes   58998                  1440   \n",
       "1               2  Yes     Yes   27999                  1080   \n",
       "2               2  Yes     Yes  106900                  1242   \n",
       "3               2  Yes     Yes   62900                   828   \n",
       "4               1   No      No   49990                  1080   \n",
       "\n",
       "   Resolution_height(px)  Rear_Camera(MP)  Front_Camera(MP)  \n",
       "0                   3120               48                16  \n",
       "1                   2400               64                16  \n",
       "2                   2688               12                12  \n",
       "3                   1792               12                12  \n",
       "4                   2340               12                32  "
      ]
     },
     "execution_count": 65,
     "metadata": {},
     "output_type": "execute_result"
    }
   ],
   "source": [
    "df = pd.read_csv('../data/cleaned_mobile_data.csv')\n",
    "df.head()"
   ]
  },
  {
   "cell_type": "code",
   "execution_count": 66,
   "metadata": {},
   "outputs": [
    {
     "name": "stdout",
     "output_type": "stream",
     "text": [
      "The skewness of the numerical features are:\n",
      "\n",
      " Price                    4.607462\n",
      "Internal_storage(GB)     4.066089\n",
      "Rear_Camera(MP)          3.656900\n",
      "Front_Camera(MP)         1.985368\n",
      "RAM(GB)                  1.434858\n",
      "Resolution_width(px)     0.723081\n",
      "Resolution_height(px)    0.654431\n",
      "Battery_capacity(mAh)    0.486553\n",
      "Processor                0.008903\n",
      "Screen_size(inches)     -0.394778\n",
      "Number of SIMs          -1.752184\n",
      "dtype: float64\n"
     ]
    }
   ],
   "source": [
    "numberical_features = df.select_dtypes(include=[np.number]).columns\n",
    "print('The skewness of the numerical features are:\\n\\n', df[numberical_features].skew().sort_values(ascending=False))\n"
   ]
  },
  {
   "cell_type": "code",
   "execution_count": 67,
   "metadata": {},
   "outputs": [],
   "source": [
    "df_skewed = pd.DataFrame()"
   ]
  },
  {
   "cell_type": "code",
   "execution_count": 68,
   "metadata": {},
   "outputs": [
    {
     "data": {
      "text/plain": [
       "np.float64(0.7888100958452384)"
      ]
     },
     "execution_count": 68,
     "metadata": {},
     "output_type": "execute_result"
    }
   ],
   "source": [
    "df_skewed['Price'] = np.log1p(df['Price'])\n",
    "df_skewed['Price'].skew()"
   ]
  },
  {
   "cell_type": "code",
   "execution_count": 69,
   "metadata": {},
   "outputs": [
    {
     "data": {
      "text/plain": [
       "np.float64(0.2873599715962765)"
      ]
     },
     "execution_count": 69,
     "metadata": {},
     "output_type": "execute_result"
    }
   ],
   "source": [
    "df_skewed['Internal_storage(GB)'] = np.log1p(df['Internal_storage(GB)'])\n",
    "df_skewed['Internal_storage(GB)'].skew()"
   ]
  },
  {
   "cell_type": "code",
   "execution_count": 70,
   "metadata": {},
   "outputs": [
    {
     "data": {
      "text/plain": [
       "np.float64(0.013748024658755456)"
      ]
     },
     "execution_count": 70,
     "metadata": {},
     "output_type": "execute_result"
    }
   ],
   "source": [
    "df_skewed['Rear_Camera(MP)'],_ = boxcox(df['Rear_Camera(MP)']+1)\n",
    "df_skewed['Rear_Camera(MP)'].skew()"
   ]
  },
  {
   "cell_type": "code",
   "execution_count": 71,
   "metadata": {},
   "outputs": [
    {
     "data": {
      "text/plain": [
       "np.float64(0.005052282405939675)"
      ]
     },
     "execution_count": 71,
     "metadata": {},
     "output_type": "execute_result"
    }
   ],
   "source": [
    "df_skewed['Front_Camera(MP)'],_ = boxcox(df['Front_Camera(MP)']+1)\n",
    "df_skewed['Front_Camera(MP)'].skew()"
   ]
  },
  {
   "cell_type": "code",
   "execution_count": 72,
   "metadata": {},
   "outputs": [
    {
     "data": {
      "text/plain": [
       "np.float64(0.0034520788606554782)"
      ]
     },
     "execution_count": 72,
     "metadata": {},
     "output_type": "execute_result"
    }
   ],
   "source": [
    "df_skewed['RAM(GB)'],_ = boxcox(df['RAM(GB)']+1)\n",
    "df_skewed['RAM(GB)'].skew()"
   ]
  },
  {
   "cell_type": "code",
   "execution_count": 73,
   "metadata": {},
   "outputs": [
    {
     "data": {
      "text/plain": [
       "np.float64(-0.448242844309048)"
      ]
     },
     "execution_count": 73,
     "metadata": {},
     "output_type": "execute_result"
    }
   ],
   "source": [
    "df_skewed['Number of SIMs']= df['Number of SIMs']**4\n",
    "df_skewed['Number of SIMs'].skew()"
   ]
  },
  {
   "cell_type": "code",
   "execution_count": 74,
   "metadata": {},
   "outputs": [
    {
     "data": {
      "text/html": [
       "<div>\n",
       "<style scoped>\n",
       "    .dataframe tbody tr th:only-of-type {\n",
       "        vertical-align: middle;\n",
       "    }\n",
       "\n",
       "    .dataframe tbody tr th {\n",
       "        vertical-align: top;\n",
       "    }\n",
       "\n",
       "    .dataframe thead th {\n",
       "        text-align: right;\n",
       "    }\n",
       "</style>\n",
       "<table border=\"1\" class=\"dataframe\">\n",
       "  <thead>\n",
       "    <tr style=\"text-align: right;\">\n",
       "      <th></th>\n",
       "      <th>Price</th>\n",
       "      <th>Internal_storage(GB)</th>\n",
       "      <th>Rear_Camera(MP)</th>\n",
       "      <th>Front_Camera(MP)</th>\n",
       "      <th>RAM(GB)</th>\n",
       "      <th>Number of SIMs</th>\n",
       "    </tr>\n",
       "  </thead>\n",
       "  <tbody>\n",
       "    <tr>\n",
       "      <th>0</th>\n",
       "      <td>10.985276</td>\n",
       "      <td>5.549076</td>\n",
       "      <td>4.142627</td>\n",
       "      <td>3.689184</td>\n",
       "      <td>3.180631</td>\n",
       "      <td>16</td>\n",
       "    </tr>\n",
       "    <tr>\n",
       "      <th>1</th>\n",
       "      <td>10.239960</td>\n",
       "      <td>4.174387</td>\n",
       "      <td>4.463819</td>\n",
       "      <td>3.689184</td>\n",
       "      <td>2.287895</td>\n",
       "      <td>16</td>\n",
       "    </tr>\n",
       "    <tr>\n",
       "      <th>2</th>\n",
       "      <td>11.579658</td>\n",
       "      <td>4.174387</td>\n",
       "      <td>2.672344</td>\n",
       "      <td>3.254454</td>\n",
       "      <td>1.838961</td>\n",
       "      <td>16</td>\n",
       "    </tr>\n",
       "    <tr>\n",
       "      <th>3</th>\n",
       "      <td>11.049317</td>\n",
       "      <td>4.174387</td>\n",
       "      <td>2.672344</td>\n",
       "      <td>3.254454</td>\n",
       "      <td>1.838961</td>\n",
       "      <td>16</td>\n",
       "    </tr>\n",
       "    <tr>\n",
       "      <th>4</th>\n",
       "      <td>10.819598</td>\n",
       "      <td>4.859812</td>\n",
       "      <td>2.672344</td>\n",
       "      <td>4.858008</td>\n",
       "      <td>2.287895</td>\n",
       "      <td>1</td>\n",
       "    </tr>\n",
       "  </tbody>\n",
       "</table>\n",
       "</div>"
      ],
      "text/plain": [
       "       Price  Internal_storage(GB)  Rear_Camera(MP)  Front_Camera(MP)  \\\n",
       "0  10.985276              5.549076         4.142627          3.689184   \n",
       "1  10.239960              4.174387         4.463819          3.689184   \n",
       "2  11.579658              4.174387         2.672344          3.254454   \n",
       "3  11.049317              4.174387         2.672344          3.254454   \n",
       "4  10.819598              4.859812         2.672344          4.858008   \n",
       "\n",
       "    RAM(GB)  Number of SIMs  \n",
       "0  3.180631              16  \n",
       "1  2.287895              16  \n",
       "2  1.838961              16  \n",
       "3  1.838961              16  \n",
       "4  2.287895               1  "
      ]
     },
     "execution_count": 74,
     "metadata": {},
     "output_type": "execute_result"
    }
   ],
   "source": [
    "df_skewed.head()"
   ]
  },
  {
   "cell_type": "code",
   "execution_count": 75,
   "metadata": {},
   "outputs": [],
   "source": [
    "\n",
    "df_concat = df.drop(['Price', 'Internal_storage(GB)', 'Rear_Camera(MP)', 'Front_Camera(MP)', 'RAM(GB)', 'Number of SIMs'], axis=1)\n",
    "df_skewed = pd.concat([df_concat, df_skewed], axis=1)"
   ]
  },
  {
   "cell_type": "code",
   "execution_count": 76,
   "metadata": {},
   "outputs": [
    {
     "data": {
      "text/html": [
       "<div>\n",
       "<style scoped>\n",
       "    .dataframe tbody tr th:only-of-type {\n",
       "        vertical-align: middle;\n",
       "    }\n",
       "\n",
       "    .dataframe tbody tr th {\n",
       "        vertical-align: top;\n",
       "    }\n",
       "\n",
       "    .dataframe thead th {\n",
       "        text-align: right;\n",
       "    }\n",
       "</style>\n",
       "<table border=\"1\" class=\"dataframe\">\n",
       "  <thead>\n",
       "    <tr style=\"text-align: right;\">\n",
       "      <th></th>\n",
       "      <th>Brand</th>\n",
       "      <th>Battery_capacity(mAh)</th>\n",
       "      <th>Screen_size(inches)</th>\n",
       "      <th>Touchscreen</th>\n",
       "      <th>Processor</th>\n",
       "      <th>Operating system</th>\n",
       "      <th>Wi-Fi</th>\n",
       "      <th>Bluetooth</th>\n",
       "      <th>GPS</th>\n",
       "      <th>3G</th>\n",
       "      <th>4G/ LTE</th>\n",
       "      <th>Resolution_width(px)</th>\n",
       "      <th>Resolution_height(px)</th>\n",
       "      <th>Price</th>\n",
       "      <th>Internal_storage(GB)</th>\n",
       "      <th>Rear_Camera(MP)</th>\n",
       "      <th>Front_Camera(MP)</th>\n",
       "      <th>RAM(GB)</th>\n",
       "      <th>Number of SIMs</th>\n",
       "    </tr>\n",
       "  </thead>\n",
       "  <tbody>\n",
       "    <tr>\n",
       "      <th>0</th>\n",
       "      <td>oneplus</td>\n",
       "      <td>4085</td>\n",
       "      <td>7</td>\n",
       "      <td>Yes</td>\n",
       "      <td>8</td>\n",
       "      <td>android</td>\n",
       "      <td>Yes</td>\n",
       "      <td>Yes</td>\n",
       "      <td>Yes</td>\n",
       "      <td>Yes</td>\n",
       "      <td>Yes</td>\n",
       "      <td>1440</td>\n",
       "      <td>3120</td>\n",
       "      <td>10.985276</td>\n",
       "      <td>5.549076</td>\n",
       "      <td>4.142627</td>\n",
       "      <td>3.689184</td>\n",
       "      <td>3.180631</td>\n",
       "      <td>16</td>\n",
       "    </tr>\n",
       "    <tr>\n",
       "      <th>1</th>\n",
       "      <td>realme</td>\n",
       "      <td>4000</td>\n",
       "      <td>7</td>\n",
       "      <td>Yes</td>\n",
       "      <td>8</td>\n",
       "      <td>android</td>\n",
       "      <td>Yes</td>\n",
       "      <td>Yes</td>\n",
       "      <td>Yes</td>\n",
       "      <td>Yes</td>\n",
       "      <td>Yes</td>\n",
       "      <td>1080</td>\n",
       "      <td>2400</td>\n",
       "      <td>10.239960</td>\n",
       "      <td>4.174387</td>\n",
       "      <td>4.463819</td>\n",
       "      <td>3.689184</td>\n",
       "      <td>2.287895</td>\n",
       "      <td>16</td>\n",
       "    </tr>\n",
       "    <tr>\n",
       "      <th>2</th>\n",
       "      <td>apple</td>\n",
       "      <td>3969</td>\n",
       "      <td>7</td>\n",
       "      <td>Yes</td>\n",
       "      <td>6</td>\n",
       "      <td>ios</td>\n",
       "      <td>Yes</td>\n",
       "      <td>Yes</td>\n",
       "      <td>Yes</td>\n",
       "      <td>Yes</td>\n",
       "      <td>Yes</td>\n",
       "      <td>1242</td>\n",
       "      <td>2688</td>\n",
       "      <td>11.579658</td>\n",
       "      <td>4.174387</td>\n",
       "      <td>2.672344</td>\n",
       "      <td>3.254454</td>\n",
       "      <td>1.838961</td>\n",
       "      <td>16</td>\n",
       "    </tr>\n",
       "    <tr>\n",
       "      <th>3</th>\n",
       "      <td>apple</td>\n",
       "      <td>3110</td>\n",
       "      <td>6</td>\n",
       "      <td>Yes</td>\n",
       "      <td>6</td>\n",
       "      <td>ios</td>\n",
       "      <td>Yes</td>\n",
       "      <td>Yes</td>\n",
       "      <td>Yes</td>\n",
       "      <td>Yes</td>\n",
       "      <td>Yes</td>\n",
       "      <td>828</td>\n",
       "      <td>1792</td>\n",
       "      <td>11.049317</td>\n",
       "      <td>4.174387</td>\n",
       "      <td>2.672344</td>\n",
       "      <td>3.254454</td>\n",
       "      <td>1.838961</td>\n",
       "      <td>16</td>\n",
       "    </tr>\n",
       "    <tr>\n",
       "      <th>4</th>\n",
       "      <td>lg</td>\n",
       "      <td>4000</td>\n",
       "      <td>6</td>\n",
       "      <td>Yes</td>\n",
       "      <td>8</td>\n",
       "      <td>android</td>\n",
       "      <td>Yes</td>\n",
       "      <td>Yes</td>\n",
       "      <td>Yes</td>\n",
       "      <td>No</td>\n",
       "      <td>No</td>\n",
       "      <td>1080</td>\n",
       "      <td>2340</td>\n",
       "      <td>10.819598</td>\n",
       "      <td>4.859812</td>\n",
       "      <td>2.672344</td>\n",
       "      <td>4.858008</td>\n",
       "      <td>2.287895</td>\n",
       "      <td>1</td>\n",
       "    </tr>\n",
       "  </tbody>\n",
       "</table>\n",
       "</div>"
      ],
      "text/plain": [
       "     Brand  Battery_capacity(mAh)  Screen_size(inches) Touchscreen  Processor  \\\n",
       "0  oneplus                   4085                    7         Yes          8   \n",
       "1   realme                   4000                    7         Yes          8   \n",
       "2    apple                   3969                    7         Yes          6   \n",
       "3    apple                   3110                    6         Yes          6   \n",
       "4       lg                   4000                    6         Yes          8   \n",
       "\n",
       "  Operating system Wi-Fi Bluetooth  GPS   3G 4G/ LTE  Resolution_width(px)  \\\n",
       "0          android   Yes       Yes  Yes  Yes     Yes                  1440   \n",
       "1          android   Yes       Yes  Yes  Yes     Yes                  1080   \n",
       "2              ios   Yes       Yes  Yes  Yes     Yes                  1242   \n",
       "3              ios   Yes       Yes  Yes  Yes     Yes                   828   \n",
       "4          android   Yes       Yes  Yes   No      No                  1080   \n",
       "\n",
       "   Resolution_height(px)      Price  Internal_storage(GB)  Rear_Camera(MP)  \\\n",
       "0                   3120  10.985276              5.549076         4.142627   \n",
       "1                   2400  10.239960              4.174387         4.463819   \n",
       "2                   2688  11.579658              4.174387         2.672344   \n",
       "3                   1792  11.049317              4.174387         2.672344   \n",
       "4                   2340  10.819598              4.859812         2.672344   \n",
       "\n",
       "   Front_Camera(MP)   RAM(GB)  Number of SIMs  \n",
       "0          3.689184  3.180631              16  \n",
       "1          3.689184  2.287895              16  \n",
       "2          3.254454  1.838961              16  \n",
       "3          3.254454  1.838961              16  \n",
       "4          4.858008  2.287895               1  "
      ]
     },
     "execution_count": 76,
     "metadata": {},
     "output_type": "execute_result"
    }
   ],
   "source": [
    "df_skewed.head()"
   ]
  },
  {
   "cell_type": "code",
   "execution_count": 77,
   "metadata": {},
   "outputs": [
    {
     "data": {
      "text/plain": [
       "19"
      ]
     },
     "execution_count": 77,
     "metadata": {},
     "output_type": "execute_result"
    }
   ],
   "source": [
    "len(df.columns)"
   ]
  },
  {
   "cell_type": "code",
   "execution_count": 78,
   "metadata": {},
   "outputs": [
    {
     "data": {
      "text/plain": [
       "19"
      ]
     },
     "execution_count": 78,
     "metadata": {},
     "output_type": "execute_result"
    }
   ],
   "source": [
    "len(df_skewed.columns)"
   ]
  },
  {
   "cell_type": "code",
   "execution_count": 79,
   "metadata": {},
   "outputs": [
    {
     "name": "stdout",
     "output_type": "stream",
     "text": [
      "The skewness of the numerical features are:\n",
      "\n",
      " Price                    0.788810\n",
      "Resolution_width(px)     0.723081\n",
      "Resolution_height(px)    0.654431\n",
      "Battery_capacity(mAh)    0.486553\n",
      "Internal_storage(GB)     0.287360\n",
      "Rear_Camera(MP)          0.013748\n",
      "Processor                0.008903\n",
      "Front_Camera(MP)         0.005052\n",
      "RAM(GB)                  0.003452\n",
      "Screen_size(inches)     -0.394778\n",
      "Number of SIMs          -0.448243\n",
      "dtype: float64\n"
     ]
    }
   ],
   "source": [
    "numberical_features = df_skewed.select_dtypes(include=[np.number]).columns\n",
    "print('The skewness of the numerical features are:\\n\\n', df_skewed[numberical_features].skew().sort_values(ascending=False))\n"
   ]
  },
  {
   "cell_type": "code",
   "execution_count": 39,
   "metadata": {},
   "outputs": [],
   "source": []
  },
  {
   "cell_type": "code",
   "execution_count": 80,
   "metadata": {},
   "outputs": [],
   "source": [
    "df_skewed.to_csv('../data/skewed_data.csv', index=False)"
   ]
  },
  {
   "cell_type": "code",
   "execution_count": 81,
   "metadata": {},
   "outputs": [],
   "source": [
    "from sklearn.preprocessing import StandardScaler\n",
    "\n",
    "scaler = StandardScaler()\n",
    "df_skewed_scaled = df_skewed.copy()\n",
    "\n",
    "for column in df_skewed_scaled.select_dtypes(exclude='object').columns:\n",
    "    if column == 'Price':\n",
    "        continue;\n",
    "    df_skewed_scaled[column] = scaler.fit_transform(df_skewed_scaled[[column]])"
   ]
  },
  {
   "cell_type": "code",
   "execution_count": 82,
   "metadata": {},
   "outputs": [
    {
     "data": {
      "text/html": [
       "<div>\n",
       "<style scoped>\n",
       "    .dataframe tbody tr th:only-of-type {\n",
       "        vertical-align: middle;\n",
       "    }\n",
       "\n",
       "    .dataframe tbody tr th {\n",
       "        vertical-align: top;\n",
       "    }\n",
       "\n",
       "    .dataframe thead th {\n",
       "        text-align: right;\n",
       "    }\n",
       "</style>\n",
       "<table border=\"1\" class=\"dataframe\">\n",
       "  <thead>\n",
       "    <tr style=\"text-align: right;\">\n",
       "      <th></th>\n",
       "      <th>Brand</th>\n",
       "      <th>Battery_capacity(mAh)</th>\n",
       "      <th>Screen_size(inches)</th>\n",
       "      <th>Touchscreen</th>\n",
       "      <th>Processor</th>\n",
       "      <th>Operating system</th>\n",
       "      <th>Wi-Fi</th>\n",
       "      <th>Bluetooth</th>\n",
       "      <th>GPS</th>\n",
       "      <th>3G</th>\n",
       "      <th>4G/ LTE</th>\n",
       "      <th>Resolution_width(px)</th>\n",
       "      <th>Resolution_height(px)</th>\n",
       "      <th>Price</th>\n",
       "      <th>Internal_storage(GB)</th>\n",
       "      <th>Rear_Camera(MP)</th>\n",
       "      <th>Front_Camera(MP)</th>\n",
       "      <th>RAM(GB)</th>\n",
       "      <th>Number of SIMs</th>\n",
       "    </tr>\n",
       "  </thead>\n",
       "  <tbody>\n",
       "    <tr>\n",
       "      <th>0</th>\n",
       "      <td>oneplus</td>\n",
       "      <td>1.313010</td>\n",
       "      <td>2.263844</td>\n",
       "      <td>Yes</td>\n",
       "      <td>1.115270</td>\n",
       "      <td>android</td>\n",
       "      <td>Yes</td>\n",
       "      <td>Yes</td>\n",
       "      <td>Yes</td>\n",
       "      <td>Yes</td>\n",
       "      <td>Yes</td>\n",
       "      <td>2.322392</td>\n",
       "      <td>2.921979</td>\n",
       "      <td>10.985276</td>\n",
       "      <td>2.854021</td>\n",
       "      <td>2.768793</td>\n",
       "      <td>1.389087</td>\n",
       "      <td>3.301137</td>\n",
       "      <td>0.417509</td>\n",
       "    </tr>\n",
       "    <tr>\n",
       "      <th>1</th>\n",
       "      <td>realme</td>\n",
       "      <td>1.215666</td>\n",
       "      <td>2.263844</td>\n",
       "      <td>Yes</td>\n",
       "      <td>1.115270</td>\n",
       "      <td>android</td>\n",
       "      <td>Yes</td>\n",
       "      <td>Yes</td>\n",
       "      <td>Yes</td>\n",
       "      <td>Yes</td>\n",
       "      <td>Yes</td>\n",
       "      <td>0.992052</td>\n",
       "      <td>1.630673</td>\n",
       "      <td>10.239960</td>\n",
       "      <td>1.291021</td>\n",
       "      <td>3.315529</td>\n",
       "      <td>1.389087</td>\n",
       "      <td>1.768011</td>\n",
       "      <td>0.417509</td>\n",
       "    </tr>\n",
       "    <tr>\n",
       "      <th>2</th>\n",
       "      <td>apple</td>\n",
       "      <td>1.180164</td>\n",
       "      <td>2.263844</td>\n",
       "      <td>Yes</td>\n",
       "      <td>0.204422</td>\n",
       "      <td>ios</td>\n",
       "      <td>Yes</td>\n",
       "      <td>Yes</td>\n",
       "      <td>Yes</td>\n",
       "      <td>Yes</td>\n",
       "      <td>Yes</td>\n",
       "      <td>1.590705</td>\n",
       "      <td>2.147195</td>\n",
       "      <td>11.579658</td>\n",
       "      <td>1.291021</td>\n",
       "      <td>0.266066</td>\n",
       "      <td>0.984988</td>\n",
       "      <td>0.997040</td>\n",
       "      <td>0.417509</td>\n",
       "    </tr>\n",
       "    <tr>\n",
       "      <th>3</th>\n",
       "      <td>apple</td>\n",
       "      <td>0.196418</td>\n",
       "      <td>0.849982</td>\n",
       "      <td>Yes</td>\n",
       "      <td>0.204422</td>\n",
       "      <td>ios</td>\n",
       "      <td>Yes</td>\n",
       "      <td>Yes</td>\n",
       "      <td>Yes</td>\n",
       "      <td>Yes</td>\n",
       "      <td>Yes</td>\n",
       "      <td>0.060815</td>\n",
       "      <td>0.540236</td>\n",
       "      <td>11.049317</td>\n",
       "      <td>1.291021</td>\n",
       "      <td>0.266066</td>\n",
       "      <td>0.984988</td>\n",
       "      <td>0.997040</td>\n",
       "      <td>0.417509</td>\n",
       "    </tr>\n",
       "    <tr>\n",
       "      <th>4</th>\n",
       "      <td>lg</td>\n",
       "      <td>1.215666</td>\n",
       "      <td>0.849982</td>\n",
       "      <td>Yes</td>\n",
       "      <td>1.115270</td>\n",
       "      <td>android</td>\n",
       "      <td>Yes</td>\n",
       "      <td>Yes</td>\n",
       "      <td>Yes</td>\n",
       "      <td>No</td>\n",
       "      <td>No</td>\n",
       "      <td>0.992052</td>\n",
       "      <td>1.523064</td>\n",
       "      <td>10.819598</td>\n",
       "      <td>2.070339</td>\n",
       "      <td>0.266066</td>\n",
       "      <td>2.475555</td>\n",
       "      <td>1.768011</td>\n",
       "      <td>-2.130673</td>\n",
       "    </tr>\n",
       "  </tbody>\n",
       "</table>\n",
       "</div>"
      ],
      "text/plain": [
       "     Brand  Battery_capacity(mAh)  Screen_size(inches) Touchscreen  Processor  \\\n",
       "0  oneplus               1.313010             2.263844         Yes   1.115270   \n",
       "1   realme               1.215666             2.263844         Yes   1.115270   \n",
       "2    apple               1.180164             2.263844         Yes   0.204422   \n",
       "3    apple               0.196418             0.849982         Yes   0.204422   \n",
       "4       lg               1.215666             0.849982         Yes   1.115270   \n",
       "\n",
       "  Operating system Wi-Fi Bluetooth  GPS   3G 4G/ LTE  Resolution_width(px)  \\\n",
       "0          android   Yes       Yes  Yes  Yes     Yes              2.322392   \n",
       "1          android   Yes       Yes  Yes  Yes     Yes              0.992052   \n",
       "2              ios   Yes       Yes  Yes  Yes     Yes              1.590705   \n",
       "3              ios   Yes       Yes  Yes  Yes     Yes              0.060815   \n",
       "4          android   Yes       Yes  Yes   No      No              0.992052   \n",
       "\n",
       "   Resolution_height(px)      Price  Internal_storage(GB)  Rear_Camera(MP)  \\\n",
       "0               2.921979  10.985276              2.854021         2.768793   \n",
       "1               1.630673  10.239960              1.291021         3.315529   \n",
       "2               2.147195  11.579658              1.291021         0.266066   \n",
       "3               0.540236  11.049317              1.291021         0.266066   \n",
       "4               1.523064  10.819598              2.070339         0.266066   \n",
       "\n",
       "   Front_Camera(MP)   RAM(GB)  Number of SIMs  \n",
       "0          1.389087  3.301137        0.417509  \n",
       "1          1.389087  1.768011        0.417509  \n",
       "2          0.984988  0.997040        0.417509  \n",
       "3          0.984988  0.997040        0.417509  \n",
       "4          2.475555  1.768011       -2.130673  "
      ]
     },
     "execution_count": 82,
     "metadata": {},
     "output_type": "execute_result"
    }
   ],
   "source": [
    "df_skewed_scaled.head()"
   ]
  },
  {
   "cell_type": "code",
   "execution_count": 83,
   "metadata": {},
   "outputs": [],
   "source": [
    "df_skewed_scaled.to_csv('../data/scaled_skewed_data.csv', index=False)"
   ]
  },
  {
   "cell_type": "code",
   "execution_count": 22,
   "metadata": {},
   "outputs": [],
   "source": []
  },
  {
   "cell_type": "code",
   "execution_count": null,
   "metadata": {},
   "outputs": [],
   "source": []
  }
 ],
 "metadata": {
  "kernelspec": {
   "display_name": "Python 3",
   "language": "python",
   "name": "python3"
  },
  "language_info": {
   "codemirror_mode": {
    "name": "ipython",
    "version": 3
   },
   "file_extension": ".py",
   "mimetype": "text/x-python",
   "name": "python",
   "nbconvert_exporter": "python",
   "pygments_lexer": "ipython3",
   "version": "3.11.5"
  }
 },
 "nbformat": 4,
 "nbformat_minor": 2
}
