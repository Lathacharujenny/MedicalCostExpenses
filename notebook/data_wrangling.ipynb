{
 "cells": [
  {
   "cell_type": "markdown",
   "metadata": {},
   "source": [
    "## Data Wrangling\n"
   ]
  },
  {
   "cell_type": "code",
   "execution_count": 1,
   "metadata": {},
   "outputs": [],
   "source": [
    "import pandas as pd\n",
    "import numpy as np\n",
    "from scipy.stats import boxcox"
   ]
  },
  {
   "cell_type": "code",
   "execution_count": 2,
   "metadata": {},
   "outputs": [
    {
     "data": {
      "text/html": [
       "<div>\n",
       "<style scoped>\n",
       "    .dataframe tbody tr th:only-of-type {\n",
       "        vertical-align: middle;\n",
       "    }\n",
       "\n",
       "    .dataframe tbody tr th {\n",
       "        vertical-align: top;\n",
       "    }\n",
       "\n",
       "    .dataframe thead th {\n",
       "        text-align: right;\n",
       "    }\n",
       "</style>\n",
       "<table border=\"1\" class=\"dataframe\">\n",
       "  <thead>\n",
       "    <tr style=\"text-align: right;\">\n",
       "      <th></th>\n",
       "      <th>Brand</th>\n",
       "      <th>Battery_capacity(mAh)</th>\n",
       "      <th>Screen_size(inches)</th>\n",
       "      <th>Touchscreen</th>\n",
       "      <th>Processor</th>\n",
       "      <th>RAM(GB)</th>\n",
       "      <th>Internal_storage(GB)</th>\n",
       "      <th>Operating system</th>\n",
       "      <th>Wi-Fi</th>\n",
       "      <th>Bluetooth</th>\n",
       "      <th>GPS</th>\n",
       "      <th>Number of SIMs</th>\n",
       "      <th>3G</th>\n",
       "      <th>4G/ LTE</th>\n",
       "      <th>Price</th>\n",
       "      <th>Resolution_width(px)</th>\n",
       "      <th>Resolution_height(px)</th>\n",
       "      <th>Rear_Camera(MP)</th>\n",
       "      <th>Front_Camera(MP)</th>\n",
       "    </tr>\n",
       "  </thead>\n",
       "  <tbody>\n",
       "    <tr>\n",
       "      <th>0</th>\n",
       "      <td>OnePlus</td>\n",
       "      <td>4085</td>\n",
       "      <td>7</td>\n",
       "      <td>Yes</td>\n",
       "      <td>8</td>\n",
       "      <td>12</td>\n",
       "      <td>256</td>\n",
       "      <td>Android</td>\n",
       "      <td>Yes</td>\n",
       "      <td>Yes</td>\n",
       "      <td>Yes</td>\n",
       "      <td>2</td>\n",
       "      <td>Yes</td>\n",
       "      <td>Yes</td>\n",
       "      <td>58998</td>\n",
       "      <td>1440</td>\n",
       "      <td>3120</td>\n",
       "      <td>48</td>\n",
       "      <td>16</td>\n",
       "    </tr>\n",
       "    <tr>\n",
       "      <th>1</th>\n",
       "      <td>Realme</td>\n",
       "      <td>4000</td>\n",
       "      <td>7</td>\n",
       "      <td>Yes</td>\n",
       "      <td>8</td>\n",
       "      <td>6</td>\n",
       "      <td>64</td>\n",
       "      <td>Android</td>\n",
       "      <td>Yes</td>\n",
       "      <td>Yes</td>\n",
       "      <td>Yes</td>\n",
       "      <td>2</td>\n",
       "      <td>Yes</td>\n",
       "      <td>Yes</td>\n",
       "      <td>27999</td>\n",
       "      <td>1080</td>\n",
       "      <td>2400</td>\n",
       "      <td>64</td>\n",
       "      <td>16</td>\n",
       "    </tr>\n",
       "    <tr>\n",
       "      <th>2</th>\n",
       "      <td>Apple</td>\n",
       "      <td>3969</td>\n",
       "      <td>7</td>\n",
       "      <td>Yes</td>\n",
       "      <td>6</td>\n",
       "      <td>4</td>\n",
       "      <td>64</td>\n",
       "      <td>iOS</td>\n",
       "      <td>Yes</td>\n",
       "      <td>Yes</td>\n",
       "      <td>Yes</td>\n",
       "      <td>2</td>\n",
       "      <td>Yes</td>\n",
       "      <td>Yes</td>\n",
       "      <td>106900</td>\n",
       "      <td>1242</td>\n",
       "      <td>2688</td>\n",
       "      <td>12</td>\n",
       "      <td>12</td>\n",
       "    </tr>\n",
       "    <tr>\n",
       "      <th>3</th>\n",
       "      <td>Apple</td>\n",
       "      <td>3110</td>\n",
       "      <td>6</td>\n",
       "      <td>Yes</td>\n",
       "      <td>6</td>\n",
       "      <td>4</td>\n",
       "      <td>64</td>\n",
       "      <td>iOS</td>\n",
       "      <td>Yes</td>\n",
       "      <td>Yes</td>\n",
       "      <td>Yes</td>\n",
       "      <td>2</td>\n",
       "      <td>Yes</td>\n",
       "      <td>Yes</td>\n",
       "      <td>62900</td>\n",
       "      <td>828</td>\n",
       "      <td>1792</td>\n",
       "      <td>12</td>\n",
       "      <td>12</td>\n",
       "    </tr>\n",
       "    <tr>\n",
       "      <th>4</th>\n",
       "      <td>LG</td>\n",
       "      <td>4000</td>\n",
       "      <td>6</td>\n",
       "      <td>Yes</td>\n",
       "      <td>8</td>\n",
       "      <td>6</td>\n",
       "      <td>128</td>\n",
       "      <td>Android</td>\n",
       "      <td>Yes</td>\n",
       "      <td>Yes</td>\n",
       "      <td>Yes</td>\n",
       "      <td>1</td>\n",
       "      <td>No</td>\n",
       "      <td>No</td>\n",
       "      <td>49990</td>\n",
       "      <td>1080</td>\n",
       "      <td>2340</td>\n",
       "      <td>12</td>\n",
       "      <td>32</td>\n",
       "    </tr>\n",
       "  </tbody>\n",
       "</table>\n",
       "</div>"
      ],
      "text/plain": [
       "     Brand  Battery_capacity(mAh)  Screen_size(inches) Touchscreen  Processor  \\\n",
       "0  OnePlus                   4085                    7         Yes          8   \n",
       "1   Realme                   4000                    7         Yes          8   \n",
       "2    Apple                   3969                    7         Yes          6   \n",
       "3    Apple                   3110                    6         Yes          6   \n",
       "4       LG                   4000                    6         Yes          8   \n",
       "\n",
       "   RAM(GB)  Internal_storage(GB) Operating system Wi-Fi Bluetooth  GPS  \\\n",
       "0       12                   256          Android   Yes       Yes  Yes   \n",
       "1        6                    64          Android   Yes       Yes  Yes   \n",
       "2        4                    64              iOS   Yes       Yes  Yes   \n",
       "3        4                    64              iOS   Yes       Yes  Yes   \n",
       "4        6                   128          Android   Yes       Yes  Yes   \n",
       "\n",
       "   Number of SIMs   3G 4G/ LTE   Price  Resolution_width(px)  \\\n",
       "0               2  Yes     Yes   58998                  1440   \n",
       "1               2  Yes     Yes   27999                  1080   \n",
       "2               2  Yes     Yes  106900                  1242   \n",
       "3               2  Yes     Yes   62900                   828   \n",
       "4               1   No      No   49990                  1080   \n",
       "\n",
       "   Resolution_height(px)  Rear_Camera(MP)  Front_Camera(MP)  \n",
       "0                   3120               48                16  \n",
       "1                   2400               64                16  \n",
       "2                   2688               12                12  \n",
       "3                   1792               12                12  \n",
       "4                   2340               12                32  "
      ]
     },
     "execution_count": 2,
     "metadata": {},
     "output_type": "execute_result"
    }
   ],
   "source": [
    "df = pd.read_csv('../data/cleaned_mobile_data_prices.csv')\n",
    "df.head()"
   ]
  },
  {
   "cell_type": "code",
   "execution_count": 3,
   "metadata": {},
   "outputs": [
    {
     "name": "stdout",
     "output_type": "stream",
     "text": [
      "The skewness of the numerical features are:\n",
      "\n",
      " Price                    4.648919\n",
      "Internal_storage(GB)     4.171917\n",
      "Rear_Camera(MP)          3.743875\n",
      "Front_Camera(MP)         2.017653\n",
      "RAM(GB)                  1.465799\n",
      "Resolution_width(px)     0.747553\n",
      "Resolution_height(px)    0.679858\n",
      "Battery_capacity(mAh)    0.494983\n",
      "Processor                0.030914\n",
      "Screen_size(inches)     -0.387508\n",
      "Number of SIMs          -1.755278\n",
      "dtype: float64\n"
     ]
    }
   ],
   "source": [
    "numberical_features = df.select_dtypes(include=[np.number]).columns\n",
    "print('The skewness of the numerical features are:\\n\\n', df[numberical_features].skew().sort_values(ascending=False))\n"
   ]
  },
  {
   "cell_type": "code",
   "execution_count": 4,
   "metadata": {},
   "outputs": [],
   "source": [
    "df_skewed = pd.DataFrame()"
   ]
  },
  {
   "cell_type": "code",
   "execution_count": 5,
   "metadata": {},
   "outputs": [
    {
     "data": {
      "text/plain": [
       "np.float64(0.8096701999140155)"
      ]
     },
     "execution_count": 5,
     "metadata": {},
     "output_type": "execute_result"
    }
   ],
   "source": [
    "df_skewed['Price'] = np.log1p(df['Price'])\n",
    "df_skewed['Price'].skew()"
   ]
  },
  {
   "cell_type": "code",
   "execution_count": 6,
   "metadata": {},
   "outputs": [
    {
     "data": {
      "text/plain": [
       "np.float64(0.2924727209068648)"
      ]
     },
     "execution_count": 6,
     "metadata": {},
     "output_type": "execute_result"
    }
   ],
   "source": [
    "df_skewed['Internal_storage(GB)'] = np.log1p(df['Internal_storage(GB)'])\n",
    "df_skewed['Internal_storage(GB)'].skew()"
   ]
  },
  {
   "cell_type": "code",
   "execution_count": 7,
   "metadata": {},
   "outputs": [
    {
     "data": {
      "text/plain": [
       "np.float64(0.016773145480194786)"
      ]
     },
     "execution_count": 7,
     "metadata": {},
     "output_type": "execute_result"
    }
   ],
   "source": [
    "df_skewed['Rear_Camera(MP)'],_ = boxcox(df['Rear_Camera(MP)']+1)\n",
    "df_skewed['Rear_Camera(MP)'].skew()"
   ]
  },
  {
   "cell_type": "code",
   "execution_count": 8,
   "metadata": {},
   "outputs": [
    {
     "data": {
      "text/plain": [
       "np.float64(0.005868111475893991)"
      ]
     },
     "execution_count": 8,
     "metadata": {},
     "output_type": "execute_result"
    }
   ],
   "source": [
    "df_skewed['Front_Camera(MP)'],_ = boxcox(df['Front_Camera(MP)']+1)\n",
    "df_skewed['Front_Camera(MP)'].skew()"
   ]
  },
  {
   "cell_type": "code",
   "execution_count": 9,
   "metadata": {},
   "outputs": [
    {
     "data": {
      "text/plain": [
       "np.float64(0.003949076310545883)"
      ]
     },
     "execution_count": 9,
     "metadata": {},
     "output_type": "execute_result"
    }
   ],
   "source": [
    "df_skewed['RAM(GB)'],_ = boxcox(df['RAM(GB)']+1)\n",
    "df_skewed['RAM(GB)'].skew()"
   ]
  },
  {
   "cell_type": "code",
   "execution_count": 10,
   "metadata": {},
   "outputs": [
    {
     "data": {
      "text/plain": [
       "np.float64(-0.43571941476143966)"
      ]
     },
     "execution_count": 10,
     "metadata": {},
     "output_type": "execute_result"
    }
   ],
   "source": [
    "df_skewed['Number of SIMs']= df['Number of SIMs']**4\n",
    "df_skewed['Number of SIMs'].skew()"
   ]
  },
  {
   "cell_type": "code",
   "execution_count": 11,
   "metadata": {},
   "outputs": [
    {
     "data": {
      "text/html": [
       "<div>\n",
       "<style scoped>\n",
       "    .dataframe tbody tr th:only-of-type {\n",
       "        vertical-align: middle;\n",
       "    }\n",
       "\n",
       "    .dataframe tbody tr th {\n",
       "        vertical-align: top;\n",
       "    }\n",
       "\n",
       "    .dataframe thead th {\n",
       "        text-align: right;\n",
       "    }\n",
       "</style>\n",
       "<table border=\"1\" class=\"dataframe\">\n",
       "  <thead>\n",
       "    <tr style=\"text-align: right;\">\n",
       "      <th></th>\n",
       "      <th>Price</th>\n",
       "      <th>Internal_storage(GB)</th>\n",
       "      <th>Rear_Camera(MP)</th>\n",
       "      <th>Front_Camera(MP)</th>\n",
       "      <th>RAM(GB)</th>\n",
       "      <th>Number of SIMs</th>\n",
       "    </tr>\n",
       "  </thead>\n",
       "  <tbody>\n",
       "    <tr>\n",
       "      <th>0</th>\n",
       "      <td>10.985276</td>\n",
       "      <td>5.549076</td>\n",
       "      <td>4.197814</td>\n",
       "      <td>3.696808</td>\n",
       "      <td>3.157549</td>\n",
       "      <td>16</td>\n",
       "    </tr>\n",
       "    <tr>\n",
       "      <th>1</th>\n",
       "      <td>10.239960</td>\n",
       "      <td>4.174387</td>\n",
       "      <td>4.527737</td>\n",
       "      <td>3.696808</td>\n",
       "      <td>2.275481</td>\n",
       "      <td>16</td>\n",
       "    </tr>\n",
       "    <tr>\n",
       "      <th>2</th>\n",
       "      <td>11.579658</td>\n",
       "      <td>4.174387</td>\n",
       "      <td>2.695576</td>\n",
       "      <td>3.260498</td>\n",
       "      <td>1.830773</td>\n",
       "      <td>16</td>\n",
       "    </tr>\n",
       "    <tr>\n",
       "      <th>3</th>\n",
       "      <td>11.049317</td>\n",
       "      <td>4.174387</td>\n",
       "      <td>2.695576</td>\n",
       "      <td>3.260498</td>\n",
       "      <td>1.830773</td>\n",
       "      <td>16</td>\n",
       "    </tr>\n",
       "    <tr>\n",
       "      <th>4</th>\n",
       "      <td>10.819598</td>\n",
       "      <td>4.859812</td>\n",
       "      <td>2.695576</td>\n",
       "      <td>4.870624</td>\n",
       "      <td>2.275481</td>\n",
       "      <td>1</td>\n",
       "    </tr>\n",
       "  </tbody>\n",
       "</table>\n",
       "</div>"
      ],
      "text/plain": [
       "       Price  Internal_storage(GB)  Rear_Camera(MP)  Front_Camera(MP)  \\\n",
       "0  10.985276              5.549076         4.197814          3.696808   \n",
       "1  10.239960              4.174387         4.527737          3.696808   \n",
       "2  11.579658              4.174387         2.695576          3.260498   \n",
       "3  11.049317              4.174387         2.695576          3.260498   \n",
       "4  10.819598              4.859812         2.695576          4.870624   \n",
       "\n",
       "    RAM(GB)  Number of SIMs  \n",
       "0  3.157549              16  \n",
       "1  2.275481              16  \n",
       "2  1.830773              16  \n",
       "3  1.830773              16  \n",
       "4  2.275481               1  "
      ]
     },
     "execution_count": 11,
     "metadata": {},
     "output_type": "execute_result"
    }
   ],
   "source": [
    "df_skewed.head()"
   ]
  },
  {
   "cell_type": "code",
   "execution_count": 12,
   "metadata": {},
   "outputs": [],
   "source": [
    "\n",
    "df_concat = df.drop(['Price', 'Internal_storage(GB)', 'Rear_Camera(MP)', 'Front_Camera(MP)', 'RAM(GB)', 'Number of SIMs'], axis=1)\n",
    "df_skewed = pd.concat([df_concat, df_skewed], axis=1)"
   ]
  },
  {
   "cell_type": "code",
   "execution_count": 13,
   "metadata": {},
   "outputs": [
    {
     "data": {
      "text/html": [
       "<div>\n",
       "<style scoped>\n",
       "    .dataframe tbody tr th:only-of-type {\n",
       "        vertical-align: middle;\n",
       "    }\n",
       "\n",
       "    .dataframe tbody tr th {\n",
       "        vertical-align: top;\n",
       "    }\n",
       "\n",
       "    .dataframe thead th {\n",
       "        text-align: right;\n",
       "    }\n",
       "</style>\n",
       "<table border=\"1\" class=\"dataframe\">\n",
       "  <thead>\n",
       "    <tr style=\"text-align: right;\">\n",
       "      <th></th>\n",
       "      <th>Brand</th>\n",
       "      <th>Battery_capacity(mAh)</th>\n",
       "      <th>Screen_size(inches)</th>\n",
       "      <th>Touchscreen</th>\n",
       "      <th>Processor</th>\n",
       "      <th>Operating system</th>\n",
       "      <th>Wi-Fi</th>\n",
       "      <th>Bluetooth</th>\n",
       "      <th>GPS</th>\n",
       "      <th>3G</th>\n",
       "      <th>4G/ LTE</th>\n",
       "      <th>Resolution_width(px)</th>\n",
       "      <th>Resolution_height(px)</th>\n",
       "      <th>Price</th>\n",
       "      <th>Internal_storage(GB)</th>\n",
       "      <th>Rear_Camera(MP)</th>\n",
       "      <th>Front_Camera(MP)</th>\n",
       "      <th>RAM(GB)</th>\n",
       "      <th>Number of SIMs</th>\n",
       "    </tr>\n",
       "  </thead>\n",
       "  <tbody>\n",
       "    <tr>\n",
       "      <th>0</th>\n",
       "      <td>OnePlus</td>\n",
       "      <td>4085</td>\n",
       "      <td>7</td>\n",
       "      <td>Yes</td>\n",
       "      <td>8</td>\n",
       "      <td>Android</td>\n",
       "      <td>Yes</td>\n",
       "      <td>Yes</td>\n",
       "      <td>Yes</td>\n",
       "      <td>Yes</td>\n",
       "      <td>Yes</td>\n",
       "      <td>1440</td>\n",
       "      <td>3120</td>\n",
       "      <td>10.985276</td>\n",
       "      <td>5.549076</td>\n",
       "      <td>4.197814</td>\n",
       "      <td>3.696808</td>\n",
       "      <td>3.157549</td>\n",
       "      <td>16</td>\n",
       "    </tr>\n",
       "    <tr>\n",
       "      <th>1</th>\n",
       "      <td>Realme</td>\n",
       "      <td>4000</td>\n",
       "      <td>7</td>\n",
       "      <td>Yes</td>\n",
       "      <td>8</td>\n",
       "      <td>Android</td>\n",
       "      <td>Yes</td>\n",
       "      <td>Yes</td>\n",
       "      <td>Yes</td>\n",
       "      <td>Yes</td>\n",
       "      <td>Yes</td>\n",
       "      <td>1080</td>\n",
       "      <td>2400</td>\n",
       "      <td>10.239960</td>\n",
       "      <td>4.174387</td>\n",
       "      <td>4.527737</td>\n",
       "      <td>3.696808</td>\n",
       "      <td>2.275481</td>\n",
       "      <td>16</td>\n",
       "    </tr>\n",
       "    <tr>\n",
       "      <th>2</th>\n",
       "      <td>Apple</td>\n",
       "      <td>3969</td>\n",
       "      <td>7</td>\n",
       "      <td>Yes</td>\n",
       "      <td>6</td>\n",
       "      <td>iOS</td>\n",
       "      <td>Yes</td>\n",
       "      <td>Yes</td>\n",
       "      <td>Yes</td>\n",
       "      <td>Yes</td>\n",
       "      <td>Yes</td>\n",
       "      <td>1242</td>\n",
       "      <td>2688</td>\n",
       "      <td>11.579658</td>\n",
       "      <td>4.174387</td>\n",
       "      <td>2.695576</td>\n",
       "      <td>3.260498</td>\n",
       "      <td>1.830773</td>\n",
       "      <td>16</td>\n",
       "    </tr>\n",
       "    <tr>\n",
       "      <th>3</th>\n",
       "      <td>Apple</td>\n",
       "      <td>3110</td>\n",
       "      <td>6</td>\n",
       "      <td>Yes</td>\n",
       "      <td>6</td>\n",
       "      <td>iOS</td>\n",
       "      <td>Yes</td>\n",
       "      <td>Yes</td>\n",
       "      <td>Yes</td>\n",
       "      <td>Yes</td>\n",
       "      <td>Yes</td>\n",
       "      <td>828</td>\n",
       "      <td>1792</td>\n",
       "      <td>11.049317</td>\n",
       "      <td>4.174387</td>\n",
       "      <td>2.695576</td>\n",
       "      <td>3.260498</td>\n",
       "      <td>1.830773</td>\n",
       "      <td>16</td>\n",
       "    </tr>\n",
       "    <tr>\n",
       "      <th>4</th>\n",
       "      <td>LG</td>\n",
       "      <td>4000</td>\n",
       "      <td>6</td>\n",
       "      <td>Yes</td>\n",
       "      <td>8</td>\n",
       "      <td>Android</td>\n",
       "      <td>Yes</td>\n",
       "      <td>Yes</td>\n",
       "      <td>Yes</td>\n",
       "      <td>No</td>\n",
       "      <td>No</td>\n",
       "      <td>1080</td>\n",
       "      <td>2340</td>\n",
       "      <td>10.819598</td>\n",
       "      <td>4.859812</td>\n",
       "      <td>2.695576</td>\n",
       "      <td>4.870624</td>\n",
       "      <td>2.275481</td>\n",
       "      <td>1</td>\n",
       "    </tr>\n",
       "  </tbody>\n",
       "</table>\n",
       "</div>"
      ],
      "text/plain": [
       "     Brand  Battery_capacity(mAh)  Screen_size(inches) Touchscreen  Processor  \\\n",
       "0  OnePlus                   4085                    7         Yes          8   \n",
       "1   Realme                   4000                    7         Yes          8   \n",
       "2    Apple                   3969                    7         Yes          6   \n",
       "3    Apple                   3110                    6         Yes          6   \n",
       "4       LG                   4000                    6         Yes          8   \n",
       "\n",
       "  Operating system Wi-Fi Bluetooth  GPS   3G 4G/ LTE  Resolution_width(px)  \\\n",
       "0          Android   Yes       Yes  Yes  Yes     Yes                  1440   \n",
       "1          Android   Yes       Yes  Yes  Yes     Yes                  1080   \n",
       "2              iOS   Yes       Yes  Yes  Yes     Yes                  1242   \n",
       "3              iOS   Yes       Yes  Yes  Yes     Yes                   828   \n",
       "4          Android   Yes       Yes  Yes   No      No                  1080   \n",
       "\n",
       "   Resolution_height(px)      Price  Internal_storage(GB)  Rear_Camera(MP)  \\\n",
       "0                   3120  10.985276              5.549076         4.197814   \n",
       "1                   2400  10.239960              4.174387         4.527737   \n",
       "2                   2688  11.579658              4.174387         2.695576   \n",
       "3                   1792  11.049317              4.174387         2.695576   \n",
       "4                   2340  10.819598              4.859812         2.695576   \n",
       "\n",
       "   Front_Camera(MP)   RAM(GB)  Number of SIMs  \n",
       "0          3.696808  3.157549              16  \n",
       "1          3.696808  2.275481              16  \n",
       "2          3.260498  1.830773              16  \n",
       "3          3.260498  1.830773              16  \n",
       "4          4.870624  2.275481               1  "
      ]
     },
     "execution_count": 13,
     "metadata": {},
     "output_type": "execute_result"
    }
   ],
   "source": [
    "df_skewed.head()"
   ]
  },
  {
   "cell_type": "code",
   "execution_count": 14,
   "metadata": {},
   "outputs": [
    {
     "data": {
      "text/plain": [
       "19"
      ]
     },
     "execution_count": 14,
     "metadata": {},
     "output_type": "execute_result"
    }
   ],
   "source": [
    "len(df.columns)"
   ]
  },
  {
   "cell_type": "code",
   "execution_count": 15,
   "metadata": {},
   "outputs": [
    {
     "data": {
      "text/plain": [
       "19"
      ]
     },
     "execution_count": 15,
     "metadata": {},
     "output_type": "execute_result"
    }
   ],
   "source": [
    "len(df_skewed.columns)"
   ]
  },
  {
   "cell_type": "code",
   "execution_count": 16,
   "metadata": {},
   "outputs": [
    {
     "name": "stdout",
     "output_type": "stream",
     "text": [
      "The skewness of the numerical features are:\n",
      "\n",
      " Price                    0.809670\n",
      "Resolution_width(px)     0.747553\n",
      "Resolution_height(px)    0.679858\n",
      "Battery_capacity(mAh)    0.494983\n",
      "Internal_storage(GB)     0.292473\n",
      "Processor                0.030914\n",
      "Rear_Camera(MP)          0.016773\n",
      "Front_Camera(MP)         0.005868\n",
      "RAM(GB)                  0.003949\n",
      "Screen_size(inches)     -0.387508\n",
      "Number of SIMs          -0.435719\n",
      "dtype: float64\n"
     ]
    }
   ],
   "source": [
    "numberical_features = df_skewed.select_dtypes(include=[np.number]).columns\n",
    "print('The skewness of the numerical features are:\\n\\n', df_skewed[numberical_features].skew().sort_values(ascending=False))\n"
   ]
  },
  {
   "cell_type": "code",
   "execution_count": 17,
   "metadata": {},
   "outputs": [],
   "source": [
    "df_skewed.to_csv('../data/skewed_data.csv', index=False)"
   ]
  },
  {
   "cell_type": "code",
   "execution_count": 18,
   "metadata": {},
   "outputs": [],
   "source": [
    "from sklearn.preprocessing import StandardScaler\n",
    "\n",
    "scaler = StandardScaler()\n",
    "df_skewed_scaled = df_skewed.copy()\n",
    "\n",
    "for column in df_skewed_scaled.select_dtypes(exclude='object').columns:\n",
    "    if column == 'Price':\n",
    "        continue;\n",
    "    df_skewed_scaled[column] = scaler.fit_transform(df_skewed_scaled[[column]])"
   ]
  },
  {
   "cell_type": "code",
   "execution_count": 19,
   "metadata": {},
   "outputs": [
    {
     "data": {
      "text/html": [
       "<div>\n",
       "<style scoped>\n",
       "    .dataframe tbody tr th:only-of-type {\n",
       "        vertical-align: middle;\n",
       "    }\n",
       "\n",
       "    .dataframe tbody tr th {\n",
       "        vertical-align: top;\n",
       "    }\n",
       "\n",
       "    .dataframe thead th {\n",
       "        text-align: right;\n",
       "    }\n",
       "</style>\n",
       "<table border=\"1\" class=\"dataframe\">\n",
       "  <thead>\n",
       "    <tr style=\"text-align: right;\">\n",
       "      <th></th>\n",
       "      <th>Brand</th>\n",
       "      <th>Battery_capacity(mAh)</th>\n",
       "      <th>Screen_size(inches)</th>\n",
       "      <th>Touchscreen</th>\n",
       "      <th>Processor</th>\n",
       "      <th>Operating system</th>\n",
       "      <th>Wi-Fi</th>\n",
       "      <th>Bluetooth</th>\n",
       "      <th>GPS</th>\n",
       "      <th>3G</th>\n",
       "      <th>4G/ LTE</th>\n",
       "      <th>Resolution_width(px)</th>\n",
       "      <th>Resolution_height(px)</th>\n",
       "      <th>Price</th>\n",
       "      <th>Internal_storage(GB)</th>\n",
       "      <th>Rear_Camera(MP)</th>\n",
       "      <th>Front_Camera(MP)</th>\n",
       "      <th>RAM(GB)</th>\n",
       "      <th>Number of SIMs</th>\n",
       "    </tr>\n",
       "  </thead>\n",
       "  <tbody>\n",
       "    <tr>\n",
       "      <th>0</th>\n",
       "      <td>OnePlus</td>\n",
       "      <td>1.320503</td>\n",
       "      <td>2.271877</td>\n",
       "      <td>Yes</td>\n",
       "      <td>1.129343</td>\n",
       "      <td>Android</td>\n",
       "      <td>Yes</td>\n",
       "      <td>Yes</td>\n",
       "      <td>Yes</td>\n",
       "      <td>Yes</td>\n",
       "      <td>Yes</td>\n",
       "      <td>2.329867</td>\n",
       "      <td>2.942193</td>\n",
       "      <td>10.985276</td>\n",
       "      <td>2.879772</td>\n",
       "      <td>2.808761</td>\n",
       "      <td>1.407360</td>\n",
       "      <td>3.306135</td>\n",
       "      <td>0.416592</td>\n",
       "    </tr>\n",
       "    <tr>\n",
       "      <th>1</th>\n",
       "      <td>Realme</td>\n",
       "      <td>1.223140</td>\n",
       "      <td>2.271877</td>\n",
       "      <td>Yes</td>\n",
       "      <td>1.129343</td>\n",
       "      <td>Android</td>\n",
       "      <td>Yes</td>\n",
       "      <td>Yes</td>\n",
       "      <td>Yes</td>\n",
       "      <td>Yes</td>\n",
       "      <td>Yes</td>\n",
       "      <td>1.000450</td>\n",
       "      <td>1.647257</td>\n",
       "      <td>10.239960</td>\n",
       "      <td>1.308767</td>\n",
       "      <td>3.364650</td>\n",
       "      <td>1.407360</td>\n",
       "      <td>1.779027</td>\n",
       "      <td>0.416592</td>\n",
       "    </tr>\n",
       "    <tr>\n",
       "      <th>2</th>\n",
       "      <td>Apple</td>\n",
       "      <td>1.187632</td>\n",
       "      <td>2.271877</td>\n",
       "      <td>Yes</td>\n",
       "      <td>0.217181</td>\n",
       "      <td>iOS</td>\n",
       "      <td>Yes</td>\n",
       "      <td>Yes</td>\n",
       "      <td>Yes</td>\n",
       "      <td>Yes</td>\n",
       "      <td>Yes</td>\n",
       "      <td>1.598688</td>\n",
       "      <td>2.165231</td>\n",
       "      <td>11.579658</td>\n",
       "      <td>1.308767</td>\n",
       "      <td>0.277632</td>\n",
       "      <td>1.000871</td>\n",
       "      <td>1.009114</td>\n",
       "      <td>0.416592</td>\n",
       "    </tr>\n",
       "    <tr>\n",
       "      <th>3</th>\n",
       "      <td>Apple</td>\n",
       "      <td>0.203694</td>\n",
       "      <td>0.858265</td>\n",
       "      <td>Yes</td>\n",
       "      <td>0.217181</td>\n",
       "      <td>iOS</td>\n",
       "      <td>Yes</td>\n",
       "      <td>Yes</td>\n",
       "      <td>Yes</td>\n",
       "      <td>Yes</td>\n",
       "      <td>Yes</td>\n",
       "      <td>0.069859</td>\n",
       "      <td>0.553756</td>\n",
       "      <td>11.049317</td>\n",
       "      <td>1.308767</td>\n",
       "      <td>0.277632</td>\n",
       "      <td>1.000871</td>\n",
       "      <td>1.009114</td>\n",
       "      <td>0.416592</td>\n",
       "    </tr>\n",
       "    <tr>\n",
       "      <th>4</th>\n",
       "      <td>LG</td>\n",
       "      <td>1.223140</td>\n",
       "      <td>0.858265</td>\n",
       "      <td>Yes</td>\n",
       "      <td>1.129343</td>\n",
       "      <td>Android</td>\n",
       "      <td>Yes</td>\n",
       "      <td>Yes</td>\n",
       "      <td>Yes</td>\n",
       "      <td>No</td>\n",
       "      <td>No</td>\n",
       "      <td>1.000450</td>\n",
       "      <td>1.539346</td>\n",
       "      <td>10.819598</td>\n",
       "      <td>2.092076</td>\n",
       "      <td>0.277632</td>\n",
       "      <td>2.500947</td>\n",
       "      <td>1.779027</td>\n",
       "      <td>-2.132267</td>\n",
       "    </tr>\n",
       "  </tbody>\n",
       "</table>\n",
       "</div>"
      ],
      "text/plain": [
       "     Brand  Battery_capacity(mAh)  Screen_size(inches) Touchscreen  Processor  \\\n",
       "0  OnePlus               1.320503             2.271877         Yes   1.129343   \n",
       "1   Realme               1.223140             2.271877         Yes   1.129343   \n",
       "2    Apple               1.187632             2.271877         Yes   0.217181   \n",
       "3    Apple               0.203694             0.858265         Yes   0.217181   \n",
       "4       LG               1.223140             0.858265         Yes   1.129343   \n",
       "\n",
       "  Operating system Wi-Fi Bluetooth  GPS   3G 4G/ LTE  Resolution_width(px)  \\\n",
       "0          Android   Yes       Yes  Yes  Yes     Yes              2.329867   \n",
       "1          Android   Yes       Yes  Yes  Yes     Yes              1.000450   \n",
       "2              iOS   Yes       Yes  Yes  Yes     Yes              1.598688   \n",
       "3              iOS   Yes       Yes  Yes  Yes     Yes              0.069859   \n",
       "4          Android   Yes       Yes  Yes   No      No              1.000450   \n",
       "\n",
       "   Resolution_height(px)      Price  Internal_storage(GB)  Rear_Camera(MP)  \\\n",
       "0               2.942193  10.985276              2.879772         2.808761   \n",
       "1               1.647257  10.239960              1.308767         3.364650   \n",
       "2               2.165231  11.579658              1.308767         0.277632   \n",
       "3               0.553756  11.049317              1.308767         0.277632   \n",
       "4               1.539346  10.819598              2.092076         0.277632   \n",
       "\n",
       "   Front_Camera(MP)   RAM(GB)  Number of SIMs  \n",
       "0          1.407360  3.306135        0.416592  \n",
       "1          1.407360  1.779027        0.416592  \n",
       "2          1.000871  1.009114        0.416592  \n",
       "3          1.000871  1.009114        0.416592  \n",
       "4          2.500947  1.779027       -2.132267  "
      ]
     },
     "execution_count": 19,
     "metadata": {},
     "output_type": "execute_result"
    }
   ],
   "source": [
    "df_skewed_scaled.head()"
   ]
  },
  {
   "cell_type": "code",
   "execution_count": 20,
   "metadata": {},
   "outputs": [],
   "source": [
    "df_skewed_scaled.to_csv('../data/scaled_skewed_data.csv', index=False)"
   ]
  },
  {
   "cell_type": "code",
   "execution_count": null,
   "metadata": {},
   "outputs": [],
   "source": []
  }
 ],
 "metadata": {
  "kernelspec": {
   "display_name": "Python 3",
   "language": "python",
   "name": "python3"
  },
  "language_info": {
   "codemirror_mode": {
    "name": "ipython",
    "version": 3
   },
   "file_extension": ".py",
   "mimetype": "text/x-python",
   "name": "python",
   "nbconvert_exporter": "python",
   "pygments_lexer": "ipython3",
   "version": "3.11.5"
  }
 },
 "nbformat": 4,
 "nbformat_minor": 2
}
