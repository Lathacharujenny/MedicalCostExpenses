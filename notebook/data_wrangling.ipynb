{
 "cells": [
  {
   "cell_type": "markdown",
   "metadata": {},
   "source": [
    "## Data Wrangling\n"
   ]
  },
  {
   "cell_type": "code",
   "execution_count": 1,
   "metadata": {},
   "outputs": [],
   "source": [
    "import pandas as pd\n",
    "import numpy as np"
   ]
  },
  {
   "cell_type": "code",
   "execution_count": 2,
   "metadata": {},
   "outputs": [
    {
     "data": {
      "text/html": [
       "<div>\n",
       "<style scoped>\n",
       "    .dataframe tbody tr th:only-of-type {\n",
       "        vertical-align: middle;\n",
       "    }\n",
       "\n",
       "    .dataframe tbody tr th {\n",
       "        vertical-align: top;\n",
       "    }\n",
       "\n",
       "    .dataframe thead th {\n",
       "        text-align: right;\n",
       "    }\n",
       "</style>\n",
       "<table border=\"1\" class=\"dataframe\">\n",
       "  <thead>\n",
       "    <tr style=\"text-align: right;\">\n",
       "      <th></th>\n",
       "      <th>Brand</th>\n",
       "      <th>Battery_capacity(mAh)</th>\n",
       "      <th>Screen_size(inches)</th>\n",
       "      <th>Processor</th>\n",
       "      <th>RAM(GB)</th>\n",
       "      <th>Internal_storage(GB)</th>\n",
       "      <th>Operating system</th>\n",
       "      <th>Number of SIMs</th>\n",
       "      <th>Price</th>\n",
       "      <th>Resolution_width(px)</th>\n",
       "      <th>Resolution_height(px)</th>\n",
       "      <th>Rear_Camera(MP)</th>\n",
       "      <th>Front_Camera(MP)</th>\n",
       "    </tr>\n",
       "  </thead>\n",
       "  <tbody>\n",
       "    <tr>\n",
       "      <th>0</th>\n",
       "      <td>oneplus</td>\n",
       "      <td>4085</td>\n",
       "      <td>7</td>\n",
       "      <td>8</td>\n",
       "      <td>12</td>\n",
       "      <td>256</td>\n",
       "      <td>android</td>\n",
       "      <td>2</td>\n",
       "      <td>58998</td>\n",
       "      <td>1440.0</td>\n",
       "      <td>3120.0</td>\n",
       "      <td>48</td>\n",
       "      <td>16</td>\n",
       "    </tr>\n",
       "    <tr>\n",
       "      <th>1</th>\n",
       "      <td>realme</td>\n",
       "      <td>4000</td>\n",
       "      <td>7</td>\n",
       "      <td>8</td>\n",
       "      <td>6</td>\n",
       "      <td>64</td>\n",
       "      <td>android</td>\n",
       "      <td>2</td>\n",
       "      <td>27999</td>\n",
       "      <td>1080.0</td>\n",
       "      <td>2400.0</td>\n",
       "      <td>64</td>\n",
       "      <td>16</td>\n",
       "    </tr>\n",
       "    <tr>\n",
       "      <th>2</th>\n",
       "      <td>apple</td>\n",
       "      <td>3969</td>\n",
       "      <td>7</td>\n",
       "      <td>6</td>\n",
       "      <td>4</td>\n",
       "      <td>64</td>\n",
       "      <td>ios</td>\n",
       "      <td>2</td>\n",
       "      <td>106900</td>\n",
       "      <td>1242.0</td>\n",
       "      <td>2688.0</td>\n",
       "      <td>12</td>\n",
       "      <td>12</td>\n",
       "    </tr>\n",
       "    <tr>\n",
       "      <th>3</th>\n",
       "      <td>apple</td>\n",
       "      <td>3110</td>\n",
       "      <td>6</td>\n",
       "      <td>6</td>\n",
       "      <td>4</td>\n",
       "      <td>64</td>\n",
       "      <td>ios</td>\n",
       "      <td>2</td>\n",
       "      <td>62900</td>\n",
       "      <td>828.0</td>\n",
       "      <td>1792.0</td>\n",
       "      <td>12</td>\n",
       "      <td>12</td>\n",
       "    </tr>\n",
       "    <tr>\n",
       "      <th>4</th>\n",
       "      <td>lg</td>\n",
       "      <td>4000</td>\n",
       "      <td>6</td>\n",
       "      <td>8</td>\n",
       "      <td>6</td>\n",
       "      <td>128</td>\n",
       "      <td>android</td>\n",
       "      <td>1</td>\n",
       "      <td>49990</td>\n",
       "      <td>1080.0</td>\n",
       "      <td>2340.0</td>\n",
       "      <td>12</td>\n",
       "      <td>32</td>\n",
       "    </tr>\n",
       "  </tbody>\n",
       "</table>\n",
       "</div>"
      ],
      "text/plain": [
       "     Brand  Battery_capacity(mAh)  Screen_size(inches)  Processor  RAM(GB)  \\\n",
       "0  oneplus                   4085                    7          8       12   \n",
       "1   realme                   4000                    7          8        6   \n",
       "2    apple                   3969                    7          6        4   \n",
       "3    apple                   3110                    6          6        4   \n",
       "4       lg                   4000                    6          8        6   \n",
       "\n",
       "   Internal_storage(GB) Operating system  Number of SIMs   Price  \\\n",
       "0                   256          android               2   58998   \n",
       "1                    64          android               2   27999   \n",
       "2                    64              ios               2  106900   \n",
       "3                    64              ios               2   62900   \n",
       "4                   128          android               1   49990   \n",
       "\n",
       "   Resolution_width(px)  Resolution_height(px)  Rear_Camera(MP)  \\\n",
       "0                1440.0                 3120.0               48   \n",
       "1                1080.0                 2400.0               64   \n",
       "2                1242.0                 2688.0               12   \n",
       "3                 828.0                 1792.0               12   \n",
       "4                1080.0                 2340.0               12   \n",
       "\n",
       "   Front_Camera(MP)  \n",
       "0                16  \n",
       "1                16  \n",
       "2                12  \n",
       "3                12  \n",
       "4                32  "
      ]
     },
     "execution_count": 2,
     "metadata": {},
     "output_type": "execute_result"
    }
   ],
   "source": [
    "df = pd.read_csv('../data/cleaned_mobile_data.csv')\n",
    "df.head()"
   ]
  },
  {
   "cell_type": "code",
   "execution_count": 3,
   "metadata": {},
   "outputs": [
    {
     "data": {
      "text/plain": [
       "Brand                     object\n",
       "Battery_capacity(mAh)      int64\n",
       "Screen_size(inches)        int64\n",
       "Processor                  int64\n",
       "RAM(GB)                    int64\n",
       "Internal_storage(GB)       int64\n",
       "Operating system          object\n",
       "Number of SIMs             int64\n",
       "Price                      int64\n",
       "Resolution_width(px)     float64\n",
       "Resolution_height(px)    float64\n",
       "Rear_Camera(MP)            int64\n",
       "Front_Camera(MP)           int64\n",
       "dtype: object"
      ]
     },
     "execution_count": 3,
     "metadata": {},
     "output_type": "execute_result"
    }
   ],
   "source": [
    "df.dtypes"
   ]
  },
  {
   "cell_type": "code",
   "execution_count": 4,
   "metadata": {},
   "outputs": [
    {
     "name": "stdout",
     "output_type": "stream",
     "text": [
      "The skewness of the numerical features are:\n",
      "\n",
      " Price                    4.230431\n",
      "Internal_storage(GB)     2.986253\n",
      "Rear_Camera(MP)          2.296220\n",
      "Front_Camera(MP)         1.378540\n",
      "Resolution_width(px)     1.222954\n",
      "RAM(GB)                  1.168316\n",
      "Resolution_height(px)    0.812623\n",
      "Battery_capacity(mAh)    0.154700\n",
      "Processor               -0.509088\n",
      "Screen_size(inches)     -0.695029\n",
      "Number of SIMs          -2.233826\n",
      "dtype: float64\n"
     ]
    }
   ],
   "source": [
    "numberical_features = df.select_dtypes(include=[np.number]).columns\n",
    "print('The skewness of the numerical features are:\\n\\n', df[numberical_features].skew().sort_values(ascending=False))\n"
   ]
  },
  {
   "cell_type": "code",
   "execution_count": 5,
   "metadata": {},
   "outputs": [],
   "source": [
    "df_skewed = pd.DataFrame()"
   ]
  },
  {
   "cell_type": "code",
   "execution_count": 6,
   "metadata": {},
   "outputs": [
    {
     "data": {
      "text/plain": [
       "np.float64(0.3819802504679348)"
      ]
     },
     "execution_count": 6,
     "metadata": {},
     "output_type": "execute_result"
    }
   ],
   "source": [
    "df_skewed['Price'] = np.log1p(df['Price'])\n",
    "df_skewed['Price'].skew()"
   ]
  },
  {
   "cell_type": "code",
   "execution_count": 7,
   "metadata": {},
   "outputs": [
    {
     "data": {
      "text/plain": [
       "np.float64(0.096627562384248)"
      ]
     },
     "execution_count": 7,
     "metadata": {},
     "output_type": "execute_result"
    }
   ],
   "source": [
    "df_skewed['Internal_storage(GB)'] = np.log1p(df['Internal_storage(GB)'])\n",
    "df_skewed['Internal_storage(GB)'].skew()"
   ]
  },
  {
   "cell_type": "code",
   "execution_count": 8,
   "metadata": {},
   "outputs": [
    {
     "data": {
      "text/plain": [
       "np.float64(0.35976141534850126)"
      ]
     },
     "execution_count": 8,
     "metadata": {},
     "output_type": "execute_result"
    }
   ],
   "source": [
    "df_skewed['Resolution_width(px)'] = np.log1p(df['Resolution_width(px)'])\n",
    "df_skewed['Resolution_width(px)'].skew()"
   ]
  },
  {
   "cell_type": "code",
   "execution_count": 9,
   "metadata": {},
   "outputs": [
    {
     "data": {
      "text/plain": [
       "np.float64(0.4381939389264018)"
      ]
     },
     "execution_count": 9,
     "metadata": {},
     "output_type": "execute_result"
    }
   ],
   "source": [
    "df_skewed['Rear_Camera(MP)'] = np.log1p(df['Rear_Camera(MP)'])\n",
    "df_skewed['Rear_Camera(MP)'].skew()"
   ]
  },
  {
   "cell_type": "code",
   "execution_count": 10,
   "metadata": {},
   "outputs": [
    {
     "data": {
      "text/plain": [
       "np.float64(-0.48026711434010666)"
      ]
     },
     "execution_count": 10,
     "metadata": {},
     "output_type": "execute_result"
    }
   ],
   "source": [
    "df_skewed['Front_Camera(MP)'] = np.log1p(df['Front_Camera(MP)'])\n",
    "df_skewed['Front_Camera(MP)'].skew()"
   ]
  },
  {
   "cell_type": "code",
   "execution_count": 11,
   "metadata": {},
   "outputs": [
    {
     "data": {
      "text/plain": [
       "np.float64(-0.29392846803760975)"
      ]
     },
     "execution_count": 11,
     "metadata": {},
     "output_type": "execute_result"
    }
   ],
   "source": [
    "df_skewed['RAM(GB)'] = np.log1p(df['RAM(GB)'])\n",
    "df_skewed['RAM(GB)'].skew()"
   ]
  },
  {
   "cell_type": "code",
   "execution_count": 12,
   "metadata": {},
   "outputs": [
    {
     "data": {
      "text/plain": [
       "np.float64(-0.8191605145901111)"
      ]
     },
     "execution_count": 12,
     "metadata": {},
     "output_type": "execute_result"
    }
   ],
   "source": [
    "df_skewed['Number of SIMs']= df['Number of SIMs']**4\n",
    "df_skewed['Number of SIMs'].skew()"
   ]
  },
  {
   "cell_type": "code",
   "execution_count": 13,
   "metadata": {},
   "outputs": [
    {
     "data": {
      "text/html": [
       "<div>\n",
       "<style scoped>\n",
       "    .dataframe tbody tr th:only-of-type {\n",
       "        vertical-align: middle;\n",
       "    }\n",
       "\n",
       "    .dataframe tbody tr th {\n",
       "        vertical-align: top;\n",
       "    }\n",
       "\n",
       "    .dataframe thead th {\n",
       "        text-align: right;\n",
       "    }\n",
       "</style>\n",
       "<table border=\"1\" class=\"dataframe\">\n",
       "  <thead>\n",
       "    <tr style=\"text-align: right;\">\n",
       "      <th></th>\n",
       "      <th>Price</th>\n",
       "      <th>Internal_storage(GB)</th>\n",
       "      <th>Resolution_width(px)</th>\n",
       "      <th>Rear_Camera(MP)</th>\n",
       "      <th>Front_Camera(MP)</th>\n",
       "      <th>RAM(GB)</th>\n",
       "      <th>Number of SIMs</th>\n",
       "    </tr>\n",
       "  </thead>\n",
       "  <tbody>\n",
       "    <tr>\n",
       "      <th>0</th>\n",
       "      <td>10.985276</td>\n",
       "      <td>5.549076</td>\n",
       "      <td>7.273093</td>\n",
       "      <td>3.891820</td>\n",
       "      <td>2.833213</td>\n",
       "      <td>2.564949</td>\n",
       "      <td>16</td>\n",
       "    </tr>\n",
       "    <tr>\n",
       "      <th>1</th>\n",
       "      <td>10.239960</td>\n",
       "      <td>4.174387</td>\n",
       "      <td>6.985642</td>\n",
       "      <td>4.174387</td>\n",
       "      <td>2.833213</td>\n",
       "      <td>1.945910</td>\n",
       "      <td>16</td>\n",
       "    </tr>\n",
       "    <tr>\n",
       "      <th>2</th>\n",
       "      <td>11.579658</td>\n",
       "      <td>4.174387</td>\n",
       "      <td>7.125283</td>\n",
       "      <td>2.564949</td>\n",
       "      <td>2.564949</td>\n",
       "      <td>1.609438</td>\n",
       "      <td>16</td>\n",
       "    </tr>\n",
       "    <tr>\n",
       "      <th>3</th>\n",
       "      <td>11.049317</td>\n",
       "      <td>4.174387</td>\n",
       "      <td>6.720220</td>\n",
       "      <td>2.564949</td>\n",
       "      <td>2.564949</td>\n",
       "      <td>1.609438</td>\n",
       "      <td>16</td>\n",
       "    </tr>\n",
       "    <tr>\n",
       "      <th>4</th>\n",
       "      <td>10.819598</td>\n",
       "      <td>4.859812</td>\n",
       "      <td>6.985642</td>\n",
       "      <td>2.564949</td>\n",
       "      <td>3.496508</td>\n",
       "      <td>1.945910</td>\n",
       "      <td>1</td>\n",
       "    </tr>\n",
       "  </tbody>\n",
       "</table>\n",
       "</div>"
      ],
      "text/plain": [
       "       Price  Internal_storage(GB)  Resolution_width(px)  Rear_Camera(MP)  \\\n",
       "0  10.985276              5.549076              7.273093         3.891820   \n",
       "1  10.239960              4.174387              6.985642         4.174387   \n",
       "2  11.579658              4.174387              7.125283         2.564949   \n",
       "3  11.049317              4.174387              6.720220         2.564949   \n",
       "4  10.819598              4.859812              6.985642         2.564949   \n",
       "\n",
       "   Front_Camera(MP)   RAM(GB)  Number of SIMs  \n",
       "0          2.833213  2.564949              16  \n",
       "1          2.833213  1.945910              16  \n",
       "2          2.564949  1.609438              16  \n",
       "3          2.564949  1.609438              16  \n",
       "4          3.496508  1.945910               1  "
      ]
     },
     "execution_count": 13,
     "metadata": {},
     "output_type": "execute_result"
    }
   ],
   "source": [
    "df_skewed.head()"
   ]
  },
  {
   "cell_type": "code",
   "execution_count": 14,
   "metadata": {},
   "outputs": [],
   "source": [
    "\n",
    "df_concat = df.drop(['Price', 'Internal_storage(GB)', 'Rear_Camera(MP)', 'Front_Camera(MP)', 'RAM(GB)', 'Number of SIMs', 'Resolution_width(px)'], axis=1)\n",
    "df_skewed = pd.concat([df_concat, df_skewed], axis=1)"
   ]
  },
  {
   "cell_type": "code",
   "execution_count": 15,
   "metadata": {},
   "outputs": [
    {
     "data": {
      "text/html": [
       "<div>\n",
       "<style scoped>\n",
       "    .dataframe tbody tr th:only-of-type {\n",
       "        vertical-align: middle;\n",
       "    }\n",
       "\n",
       "    .dataframe tbody tr th {\n",
       "        vertical-align: top;\n",
       "    }\n",
       "\n",
       "    .dataframe thead th {\n",
       "        text-align: right;\n",
       "    }\n",
       "</style>\n",
       "<table border=\"1\" class=\"dataframe\">\n",
       "  <thead>\n",
       "    <tr style=\"text-align: right;\">\n",
       "      <th></th>\n",
       "      <th>Brand</th>\n",
       "      <th>Battery_capacity(mAh)</th>\n",
       "      <th>Screen_size(inches)</th>\n",
       "      <th>Processor</th>\n",
       "      <th>Operating system</th>\n",
       "      <th>Resolution_height(px)</th>\n",
       "      <th>Price</th>\n",
       "      <th>Internal_storage(GB)</th>\n",
       "      <th>Resolution_width(px)</th>\n",
       "      <th>Rear_Camera(MP)</th>\n",
       "      <th>Front_Camera(MP)</th>\n",
       "      <th>RAM(GB)</th>\n",
       "      <th>Number of SIMs</th>\n",
       "    </tr>\n",
       "  </thead>\n",
       "  <tbody>\n",
       "    <tr>\n",
       "      <th>0</th>\n",
       "      <td>oneplus</td>\n",
       "      <td>4085</td>\n",
       "      <td>7</td>\n",
       "      <td>8</td>\n",
       "      <td>android</td>\n",
       "      <td>3120.0</td>\n",
       "      <td>10.985276</td>\n",
       "      <td>5.549076</td>\n",
       "      <td>7.273093</td>\n",
       "      <td>3.891820</td>\n",
       "      <td>2.833213</td>\n",
       "      <td>2.564949</td>\n",
       "      <td>16</td>\n",
       "    </tr>\n",
       "    <tr>\n",
       "      <th>1</th>\n",
       "      <td>realme</td>\n",
       "      <td>4000</td>\n",
       "      <td>7</td>\n",
       "      <td>8</td>\n",
       "      <td>android</td>\n",
       "      <td>2400.0</td>\n",
       "      <td>10.239960</td>\n",
       "      <td>4.174387</td>\n",
       "      <td>6.985642</td>\n",
       "      <td>4.174387</td>\n",
       "      <td>2.833213</td>\n",
       "      <td>1.945910</td>\n",
       "      <td>16</td>\n",
       "    </tr>\n",
       "    <tr>\n",
       "      <th>2</th>\n",
       "      <td>apple</td>\n",
       "      <td>3969</td>\n",
       "      <td>7</td>\n",
       "      <td>6</td>\n",
       "      <td>ios</td>\n",
       "      <td>2688.0</td>\n",
       "      <td>11.579658</td>\n",
       "      <td>4.174387</td>\n",
       "      <td>7.125283</td>\n",
       "      <td>2.564949</td>\n",
       "      <td>2.564949</td>\n",
       "      <td>1.609438</td>\n",
       "      <td>16</td>\n",
       "    </tr>\n",
       "    <tr>\n",
       "      <th>3</th>\n",
       "      <td>apple</td>\n",
       "      <td>3110</td>\n",
       "      <td>6</td>\n",
       "      <td>6</td>\n",
       "      <td>ios</td>\n",
       "      <td>1792.0</td>\n",
       "      <td>11.049317</td>\n",
       "      <td>4.174387</td>\n",
       "      <td>6.720220</td>\n",
       "      <td>2.564949</td>\n",
       "      <td>2.564949</td>\n",
       "      <td>1.609438</td>\n",
       "      <td>16</td>\n",
       "    </tr>\n",
       "    <tr>\n",
       "      <th>4</th>\n",
       "      <td>lg</td>\n",
       "      <td>4000</td>\n",
       "      <td>6</td>\n",
       "      <td>8</td>\n",
       "      <td>android</td>\n",
       "      <td>2340.0</td>\n",
       "      <td>10.819598</td>\n",
       "      <td>4.859812</td>\n",
       "      <td>6.985642</td>\n",
       "      <td>2.564949</td>\n",
       "      <td>3.496508</td>\n",
       "      <td>1.945910</td>\n",
       "      <td>1</td>\n",
       "    </tr>\n",
       "  </tbody>\n",
       "</table>\n",
       "</div>"
      ],
      "text/plain": [
       "     Brand  Battery_capacity(mAh)  Screen_size(inches)  Processor  \\\n",
       "0  oneplus                   4085                    7          8   \n",
       "1   realme                   4000                    7          8   \n",
       "2    apple                   3969                    7          6   \n",
       "3    apple                   3110                    6          6   \n",
       "4       lg                   4000                    6          8   \n",
       "\n",
       "  Operating system  Resolution_height(px)      Price  Internal_storage(GB)  \\\n",
       "0          android                 3120.0  10.985276              5.549076   \n",
       "1          android                 2400.0  10.239960              4.174387   \n",
       "2              ios                 2688.0  11.579658              4.174387   \n",
       "3              ios                 1792.0  11.049317              4.174387   \n",
       "4          android                 2340.0  10.819598              4.859812   \n",
       "\n",
       "   Resolution_width(px)  Rear_Camera(MP)  Front_Camera(MP)   RAM(GB)  \\\n",
       "0              7.273093         3.891820          2.833213  2.564949   \n",
       "1              6.985642         4.174387          2.833213  1.945910   \n",
       "2              7.125283         2.564949          2.564949  1.609438   \n",
       "3              6.720220         2.564949          2.564949  1.609438   \n",
       "4              6.985642         2.564949          3.496508  1.945910   \n",
       "\n",
       "   Number of SIMs  \n",
       "0              16  \n",
       "1              16  \n",
       "2              16  \n",
       "3              16  \n",
       "4               1  "
      ]
     },
     "execution_count": 15,
     "metadata": {},
     "output_type": "execute_result"
    }
   ],
   "source": [
    "df_skewed.head()"
   ]
  },
  {
   "cell_type": "code",
   "execution_count": 16,
   "metadata": {},
   "outputs": [
    {
     "data": {
      "text/plain": [
       "13"
      ]
     },
     "execution_count": 16,
     "metadata": {},
     "output_type": "execute_result"
    }
   ],
   "source": [
    "len(df.columns)"
   ]
  },
  {
   "cell_type": "code",
   "execution_count": 17,
   "metadata": {},
   "outputs": [
    {
     "data": {
      "text/plain": [
       "13"
      ]
     },
     "execution_count": 17,
     "metadata": {},
     "output_type": "execute_result"
    }
   ],
   "source": [
    "len(df_skewed.columns)"
   ]
  },
  {
   "cell_type": "code",
   "execution_count": 18,
   "metadata": {},
   "outputs": [
    {
     "name": "stdout",
     "output_type": "stream",
     "text": [
      "The skewness of the numerical features are:\n",
      "\n",
      " Resolution_height(px)    0.812623\n",
      "Rear_Camera(MP)          0.438194\n",
      "Price                    0.381980\n",
      "Resolution_width(px)     0.359761\n",
      "Battery_capacity(mAh)    0.154700\n",
      "Internal_storage(GB)     0.096628\n",
      "RAM(GB)                 -0.293928\n",
      "Front_Camera(MP)        -0.480267\n",
      "Processor               -0.509088\n",
      "Screen_size(inches)     -0.695029\n",
      "Number of SIMs          -0.819161\n",
      "dtype: float64\n"
     ]
    }
   ],
   "source": [
    "numberical_features = df_skewed.select_dtypes(include=[np.number]).columns\n",
    "print('The skewness of the numerical features are:\\n\\n', df_skewed[numberical_features].skew().sort_values(ascending=False))\n"
   ]
  },
  {
   "cell_type": "code",
   "execution_count": null,
   "metadata": {},
   "outputs": [],
   "source": []
  },
  {
   "cell_type": "code",
   "execution_count": 19,
   "metadata": {},
   "outputs": [],
   "source": [
    "df_skewed.to_csv('../data/skewed_data.csv', index=False)"
   ]
  },
  {
   "cell_type": "code",
   "execution_count": 23,
   "metadata": {},
   "outputs": [
    {
     "data": {
      "text/plain": [
       "Brand                    0\n",
       "Battery_capacity(mAh)    0\n",
       "Screen_size(inches)      0\n",
       "Processor                0\n",
       "Operating system         0\n",
       "Resolution_height(px)    0\n",
       "Price                    0\n",
       "Internal_storage(GB)     0\n",
       "Resolution_width(px)     0\n",
       "Rear_Camera(MP)          0\n",
       "Front_Camera(MP)         0\n",
       "RAM(GB)                  0\n",
       "Number of SIMs           0\n",
       "dtype: int64"
      ]
     },
     "execution_count": 23,
     "metadata": {},
     "output_type": "execute_result"
    }
   ],
   "source": [
    "df_skewed.isnull().sum()"
   ]
  },
  {
   "cell_type": "code",
   "execution_count": 20,
   "metadata": {},
   "outputs": [],
   "source": [
    "from sklearn.preprocessing import StandardScaler\n",
    "\n",
    "scaler = StandardScaler()\n",
    "df_skewed_scaled = df_skewed.copy()\n",
    "\n",
    "for column in df_skewed_scaled.select_dtypes(exclude='object').columns:\n",
    "    if column == 'Price':\n",
    "        continue;\n",
    "    df_skewed_scaled[column] = scaler.fit_transform(df_skewed_scaled[[column]])"
   ]
  },
  {
   "cell_type": "code",
   "execution_count": 21,
   "metadata": {},
   "outputs": [
    {
     "data": {
      "text/html": [
       "<div>\n",
       "<style scoped>\n",
       "    .dataframe tbody tr th:only-of-type {\n",
       "        vertical-align: middle;\n",
       "    }\n",
       "\n",
       "    .dataframe tbody tr th {\n",
       "        vertical-align: top;\n",
       "    }\n",
       "\n",
       "    .dataframe thead th {\n",
       "        text-align: right;\n",
       "    }\n",
       "</style>\n",
       "<table border=\"1\" class=\"dataframe\">\n",
       "  <thead>\n",
       "    <tr style=\"text-align: right;\">\n",
       "      <th></th>\n",
       "      <th>Brand</th>\n",
       "      <th>Battery_capacity(mAh)</th>\n",
       "      <th>Screen_size(inches)</th>\n",
       "      <th>Processor</th>\n",
       "      <th>Operating system</th>\n",
       "      <th>Resolution_height(px)</th>\n",
       "      <th>Price</th>\n",
       "      <th>Internal_storage(GB)</th>\n",
       "      <th>Resolution_width(px)</th>\n",
       "      <th>Rear_Camera(MP)</th>\n",
       "      <th>Front_Camera(MP)</th>\n",
       "      <th>RAM(GB)</th>\n",
       "      <th>Number of SIMs</th>\n",
       "    </tr>\n",
       "  </thead>\n",
       "  <tbody>\n",
       "    <tr>\n",
       "      <th>0</th>\n",
       "      <td>oneplus</td>\n",
       "      <td>0.860535</td>\n",
       "      <td>2.239175</td>\n",
       "      <td>0.841181</td>\n",
       "      <td>android</td>\n",
       "      <td>3.103923</td>\n",
       "      <td>10.985276</td>\n",
       "      <td>2.235219</td>\n",
       "      <td>0.900390</td>\n",
       "      <td>1.903176</td>\n",
       "      <td>0.948653</td>\n",
       "      <td>2.472643</td>\n",
       "      <td>0.353286</td>\n",
       "    </tr>\n",
       "    <tr>\n",
       "      <th>1</th>\n",
       "      <td>realme</td>\n",
       "      <td>0.773224</td>\n",
       "      <td>2.239175</td>\n",
       "      <td>0.841181</td>\n",
       "      <td>android</td>\n",
       "      <td>1.810273</td>\n",
       "      <td>10.239960</td>\n",
       "      <td>0.840899</td>\n",
       "      <td>0.302784</td>\n",
       "      <td>2.323620</td>\n",
       "      <td>0.948653</td>\n",
       "      <td>1.286993</td>\n",
       "      <td>0.353286</td>\n",
       "    </tr>\n",
       "    <tr>\n",
       "      <th>2</th>\n",
       "      <td>apple</td>\n",
       "      <td>0.741382</td>\n",
       "      <td>2.239175</td>\n",
       "      <td>-0.077850</td>\n",
       "      <td>ios</td>\n",
       "      <td>2.327733</td>\n",
       "      <td>11.579658</td>\n",
       "      <td>0.840899</td>\n",
       "      <td>0.593096</td>\n",
       "      <td>-0.071134</td>\n",
       "      <td>0.630000</td>\n",
       "      <td>0.642546</td>\n",
       "      <td>0.353286</td>\n",
       "    </tr>\n",
       "    <tr>\n",
       "      <th>3</th>\n",
       "      <td>apple</td>\n",
       "      <td>-0.140971</td>\n",
       "      <td>0.741449</td>\n",
       "      <td>-0.077850</td>\n",
       "      <td>ios</td>\n",
       "      <td>0.717857</td>\n",
       "      <td>11.049317</td>\n",
       "      <td>0.840899</td>\n",
       "      <td>-0.249024</td>\n",
       "      <td>-0.071134</td>\n",
       "      <td>0.630000</td>\n",
       "      <td>0.642546</td>\n",
       "      <td>0.353286</td>\n",
       "    </tr>\n",
       "    <tr>\n",
       "      <th>4</th>\n",
       "      <td>lg</td>\n",
       "      <td>0.773224</td>\n",
       "      <td>0.741449</td>\n",
       "      <td>0.841181</td>\n",
       "      <td>android</td>\n",
       "      <td>1.702469</td>\n",
       "      <td>10.819598</td>\n",
       "      <td>1.536112</td>\n",
       "      <td>0.302784</td>\n",
       "      <td>-0.071134</td>\n",
       "      <td>1.736537</td>\n",
       "      <td>1.286993</td>\n",
       "      <td>-2.531180</td>\n",
       "    </tr>\n",
       "  </tbody>\n",
       "</table>\n",
       "</div>"
      ],
      "text/plain": [
       "     Brand  Battery_capacity(mAh)  Screen_size(inches)  Processor  \\\n",
       "0  oneplus               0.860535             2.239175   0.841181   \n",
       "1   realme               0.773224             2.239175   0.841181   \n",
       "2    apple               0.741382             2.239175  -0.077850   \n",
       "3    apple              -0.140971             0.741449  -0.077850   \n",
       "4       lg               0.773224             0.741449   0.841181   \n",
       "\n",
       "  Operating system  Resolution_height(px)      Price  Internal_storage(GB)  \\\n",
       "0          android               3.103923  10.985276              2.235219   \n",
       "1          android               1.810273  10.239960              0.840899   \n",
       "2              ios               2.327733  11.579658              0.840899   \n",
       "3              ios               0.717857  11.049317              0.840899   \n",
       "4          android               1.702469  10.819598              1.536112   \n",
       "\n",
       "   Resolution_width(px)  Rear_Camera(MP)  Front_Camera(MP)   RAM(GB)  \\\n",
       "0              0.900390         1.903176          0.948653  2.472643   \n",
       "1              0.302784         2.323620          0.948653  1.286993   \n",
       "2              0.593096        -0.071134          0.630000  0.642546   \n",
       "3             -0.249024        -0.071134          0.630000  0.642546   \n",
       "4              0.302784        -0.071134          1.736537  1.286993   \n",
       "\n",
       "   Number of SIMs  \n",
       "0        0.353286  \n",
       "1        0.353286  \n",
       "2        0.353286  \n",
       "3        0.353286  \n",
       "4       -2.531180  "
      ]
     },
     "execution_count": 21,
     "metadata": {},
     "output_type": "execute_result"
    }
   ],
   "source": [
    "df_skewed_scaled.head()"
   ]
  },
  {
   "cell_type": "code",
   "execution_count": 22,
   "metadata": {},
   "outputs": [],
   "source": [
    "df_skewed_scaled.to_csv('../data/scaled_skewed_data.csv', index=False)"
   ]
  },
  {
   "cell_type": "code",
   "execution_count": null,
   "metadata": {},
   "outputs": [],
   "source": []
  },
  {
   "cell_type": "code",
   "execution_count": null,
   "metadata": {},
   "outputs": [],
   "source": []
  }
 ],
 "metadata": {
  "kernelspec": {
   "display_name": "Python 3",
   "language": "python",
   "name": "python3"
  },
  "language_info": {
   "codemirror_mode": {
    "name": "ipython",
    "version": 3
   },
   "file_extension": ".py",
   "mimetype": "text/x-python",
   "name": "python",
   "nbconvert_exporter": "python",
   "pygments_lexer": "ipython3",
   "version": "3.11.5"
  }
 },
 "nbformat": 4,
 "nbformat_minor": 2
}
