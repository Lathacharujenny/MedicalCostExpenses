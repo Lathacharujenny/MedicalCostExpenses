{
 "cells": [
  {
   "cell_type": "markdown",
   "metadata": {},
   "source": [
    "## Model_training"
   ]
  },
  {
   "cell_type": "code",
   "execution_count": 5,
   "metadata": {},
   "outputs": [],
   "source": [
    "import numpy as np\n",
    "import pandas as pd\n",
    "from sklearn.preprocessing import OneHotEncoder, StandardScaler\n",
    "from sklearn.compose import ColumnTransformer\n",
    "from sklearn.model_selection import train_test_split"
   ]
  },
  {
   "cell_type": "code",
   "execution_count": 6,
   "metadata": {},
   "outputs": [
    {
     "data": {
      "text/html": [
       "<div>\n",
       "<style scoped>\n",
       "    .dataframe tbody tr th:only-of-type {\n",
       "        vertical-align: middle;\n",
       "    }\n",
       "\n",
       "    .dataframe tbody tr th {\n",
       "        vertical-align: top;\n",
       "    }\n",
       "\n",
       "    .dataframe thead th {\n",
       "        text-align: right;\n",
       "    }\n",
       "</style>\n",
       "<table border=\"1\" class=\"dataframe\">\n",
       "  <thead>\n",
       "    <tr style=\"text-align: right;\">\n",
       "      <th></th>\n",
       "      <th>Brand</th>\n",
       "      <th>Battery_capacity(mAh)</th>\n",
       "      <th>Screen_size(inches)</th>\n",
       "      <th>Touchscreen</th>\n",
       "      <th>Processor</th>\n",
       "      <th>Operating system</th>\n",
       "      <th>Wi-Fi</th>\n",
       "      <th>Bluetooth</th>\n",
       "      <th>GPS</th>\n",
       "      <th>3G</th>\n",
       "      <th>4G/ LTE</th>\n",
       "      <th>Resolution_width(px)</th>\n",
       "      <th>Resolution_height(px)</th>\n",
       "      <th>Price</th>\n",
       "      <th>Internal_storage(GB)</th>\n",
       "      <th>Rear_Camera(MP)</th>\n",
       "      <th>Front_Camera(MP)</th>\n",
       "      <th>RAM(GB)</th>\n",
       "      <th>Number of SIMs</th>\n",
       "    </tr>\n",
       "  </thead>\n",
       "  <tbody>\n",
       "    <tr>\n",
       "      <th>0</th>\n",
       "      <td>OnePlus</td>\n",
       "      <td>4085</td>\n",
       "      <td>7</td>\n",
       "      <td>Yes</td>\n",
       "      <td>8</td>\n",
       "      <td>Android</td>\n",
       "      <td>Yes</td>\n",
       "      <td>Yes</td>\n",
       "      <td>Yes</td>\n",
       "      <td>Yes</td>\n",
       "      <td>Yes</td>\n",
       "      <td>1440</td>\n",
       "      <td>3120</td>\n",
       "      <td>10.985276</td>\n",
       "      <td>5.549076</td>\n",
       "      <td>4.197814</td>\n",
       "      <td>3.696808</td>\n",
       "      <td>3.157549</td>\n",
       "      <td>16</td>\n",
       "    </tr>\n",
       "    <tr>\n",
       "      <th>1</th>\n",
       "      <td>Realme</td>\n",
       "      <td>4000</td>\n",
       "      <td>7</td>\n",
       "      <td>Yes</td>\n",
       "      <td>8</td>\n",
       "      <td>Android</td>\n",
       "      <td>Yes</td>\n",
       "      <td>Yes</td>\n",
       "      <td>Yes</td>\n",
       "      <td>Yes</td>\n",
       "      <td>Yes</td>\n",
       "      <td>1080</td>\n",
       "      <td>2400</td>\n",
       "      <td>10.239960</td>\n",
       "      <td>4.174387</td>\n",
       "      <td>4.527737</td>\n",
       "      <td>3.696808</td>\n",
       "      <td>2.275481</td>\n",
       "      <td>16</td>\n",
       "    </tr>\n",
       "    <tr>\n",
       "      <th>2</th>\n",
       "      <td>Apple</td>\n",
       "      <td>3969</td>\n",
       "      <td>7</td>\n",
       "      <td>Yes</td>\n",
       "      <td>6</td>\n",
       "      <td>iOS</td>\n",
       "      <td>Yes</td>\n",
       "      <td>Yes</td>\n",
       "      <td>Yes</td>\n",
       "      <td>Yes</td>\n",
       "      <td>Yes</td>\n",
       "      <td>1242</td>\n",
       "      <td>2688</td>\n",
       "      <td>11.579658</td>\n",
       "      <td>4.174387</td>\n",
       "      <td>2.695576</td>\n",
       "      <td>3.260498</td>\n",
       "      <td>1.830773</td>\n",
       "      <td>16</td>\n",
       "    </tr>\n",
       "    <tr>\n",
       "      <th>3</th>\n",
       "      <td>Apple</td>\n",
       "      <td>3110</td>\n",
       "      <td>6</td>\n",
       "      <td>Yes</td>\n",
       "      <td>6</td>\n",
       "      <td>iOS</td>\n",
       "      <td>Yes</td>\n",
       "      <td>Yes</td>\n",
       "      <td>Yes</td>\n",
       "      <td>Yes</td>\n",
       "      <td>Yes</td>\n",
       "      <td>828</td>\n",
       "      <td>1792</td>\n",
       "      <td>11.049317</td>\n",
       "      <td>4.174387</td>\n",
       "      <td>2.695576</td>\n",
       "      <td>3.260498</td>\n",
       "      <td>1.830773</td>\n",
       "      <td>16</td>\n",
       "    </tr>\n",
       "    <tr>\n",
       "      <th>4</th>\n",
       "      <td>LG</td>\n",
       "      <td>4000</td>\n",
       "      <td>6</td>\n",
       "      <td>Yes</td>\n",
       "      <td>8</td>\n",
       "      <td>Android</td>\n",
       "      <td>Yes</td>\n",
       "      <td>Yes</td>\n",
       "      <td>Yes</td>\n",
       "      <td>No</td>\n",
       "      <td>No</td>\n",
       "      <td>1080</td>\n",
       "      <td>2340</td>\n",
       "      <td>10.819598</td>\n",
       "      <td>4.859812</td>\n",
       "      <td>2.695576</td>\n",
       "      <td>4.870624</td>\n",
       "      <td>2.275481</td>\n",
       "      <td>1</td>\n",
       "    </tr>\n",
       "  </tbody>\n",
       "</table>\n",
       "</div>"
      ],
      "text/plain": [
       "     Brand  Battery_capacity(mAh)  Screen_size(inches) Touchscreen  Processor  \\\n",
       "0  OnePlus                   4085                    7         Yes          8   \n",
       "1   Realme                   4000                    7         Yes          8   \n",
       "2    Apple                   3969                    7         Yes          6   \n",
       "3    Apple                   3110                    6         Yes          6   \n",
       "4       LG                   4000                    6         Yes          8   \n",
       "\n",
       "  Operating system Wi-Fi Bluetooth  GPS   3G 4G/ LTE  Resolution_width(px)  \\\n",
       "0          Android   Yes       Yes  Yes  Yes     Yes                  1440   \n",
       "1          Android   Yes       Yes  Yes  Yes     Yes                  1080   \n",
       "2              iOS   Yes       Yes  Yes  Yes     Yes                  1242   \n",
       "3              iOS   Yes       Yes  Yes  Yes     Yes                   828   \n",
       "4          Android   Yes       Yes  Yes   No      No                  1080   \n",
       "\n",
       "   Resolution_height(px)      Price  Internal_storage(GB)  Rear_Camera(MP)  \\\n",
       "0                   3120  10.985276              5.549076         4.197814   \n",
       "1                   2400  10.239960              4.174387         4.527737   \n",
       "2                   2688  11.579658              4.174387         2.695576   \n",
       "3                   1792  11.049317              4.174387         2.695576   \n",
       "4                   2340  10.819598              4.859812         2.695576   \n",
       "\n",
       "   Front_Camera(MP)   RAM(GB)  Number of SIMs  \n",
       "0          3.696808  3.157549              16  \n",
       "1          3.696808  2.275481              16  \n",
       "2          3.260498  1.830773              16  \n",
       "3          3.260498  1.830773              16  \n",
       "4          4.870624  2.275481               1  "
      ]
     },
     "execution_count": 6,
     "metadata": {},
     "output_type": "execute_result"
    }
   ],
   "source": [
    "df = pd.read_csv('../data/skewed_data.csv')\n",
    "df.head()"
   ]
  },
  {
   "cell_type": "code",
   "execution_count": 7,
   "metadata": {},
   "outputs": [
    {
     "data": {
      "text/plain": [
       "Brand                     object\n",
       "Battery_capacity(mAh)      int64\n",
       "Screen_size(inches)        int64\n",
       "Touchscreen               object\n",
       "Processor                  int64\n",
       "Operating system          object\n",
       "Wi-Fi                     object\n",
       "Bluetooth                 object\n",
       "GPS                       object\n",
       "3G                        object\n",
       "4G/ LTE                   object\n",
       "Resolution_width(px)       int64\n",
       "Resolution_height(px)      int64\n",
       "Price                    float64\n",
       "Internal_storage(GB)     float64\n",
       "Rear_Camera(MP)          float64\n",
       "Front_Camera(MP)         float64\n",
       "RAM(GB)                  float64\n",
       "Number of SIMs             int64\n",
       "dtype: object"
      ]
     },
     "execution_count": 7,
     "metadata": {},
     "output_type": "execute_result"
    }
   ],
   "source": [
    "df.dtypes"
   ]
  },
  {
   "cell_type": "code",
   "execution_count": 8,
   "metadata": {},
   "outputs": [],
   "source": [
    "X = df.drop('Price', axis=1)\n",
    "y = df['Price']"
   ]
  },
  {
   "cell_type": "code",
   "execution_count": 9,
   "metadata": {},
   "outputs": [],
   "source": [
    "num_features = X.select_dtypes(exclude='object').columns\n",
    "categorical_features = ['Brand', 'Touchscreen', 'Operating system', 'Wi-Fi',\n",
    "       'Bluetooth', 'GPS', '3G', '4G/ LTE']\n"
   ]
  },
  {
   "cell_type": "code",
   "execution_count": 25,
   "metadata": {},
   "outputs": [
    {
     "data": {
      "text/plain": [
       "(1344, 104)"
      ]
     },
     "execution_count": 25,
     "metadata": {},
     "output_type": "execute_result"
    }
   ],
   "source": [
    "\n",
    "preprocessor = ColumnTransformer([\n",
    "    ('OneHotEncoder',OneHotEncoder(), categorical_features),\n",
    "    ('MinMaxScaler', StandardScaler(), num_features)\n",
    "])\n",
    "X_preprocessed = preprocessor.fit_transform(X)\n",
    "X_preprocessed.shape\n"
   ]
  },
  {
   "cell_type": "code",
   "execution_count": 11,
   "metadata": {},
   "outputs": [],
   "source": [
    "X_train, X_test, y_train, y_test = train_test_split(X_preprocessed, y, test_size=0.2, random_state=42)\n",
    "scores = []"
   ]
  },
  {
   "cell_type": "markdown",
   "metadata": {},
   "source": [
    "## Linear regression"
   ]
  },
  {
   "cell_type": "code",
   "execution_count": 12,
   "metadata": {},
   "outputs": [
    {
     "name": "stdout",
     "output_type": "stream",
     "text": [
      "MSE:  0.16228356570221825\n",
      "r2_score_train:  0.763850825536035\n",
      "r2_score_test:  0.7294760616417002\n",
      "Cross Validation Score:  0.7103994251760269\n"
     ]
    }
   ],
   "source": [
    "from sklearn.linear_model import LinearRegression\n",
    "from sklearn.metrics import mean_squared_error, r2_score\n",
    "from sklearn.model_selection import cross_val_score\n",
    "\n",
    "linear_model = LinearRegression()\n",
    "linear_model.fit(X_train, y_train)\n",
    "y_pred_train = linear_model.predict(X_train)\n",
    "y_pred_test = linear_model.predict(X_test)\n",
    "\n",
    "mse = mean_squared_error(y_test, y_pred_test)\n",
    "r2_train = r2_score(y_train, y_pred_train)\n",
    "r2_test = r2_score(y_test, y_pred_test)\n",
    "cv = cross_val_score(linear_model, X_train, y_train, cv=5, scoring='r2')\n",
    "print('MSE: ', mse)\n",
    "print('r2_score_train: ', r2_train)\n",
    "print('r2_score_test: ', r2_test)\n",
    "print('Cross Validation Score: ', cv.mean())\n",
    "\n",
    "scores.append({'Linear Regression': {'R2_Score_train': r2_train,'R2_Score_test':r2_test, 'MSE': mse, 'Cross Validation Score': cv.mean()}})\n",
    "\n"
   ]
  },
  {
   "cell_type": "markdown",
   "metadata": {},
   "source": [
    "## Lasso Regression"
   ]
  },
  {
   "cell_type": "code",
   "execution_count": 13,
   "metadata": {},
   "outputs": [
    {
     "name": "stdout",
     "output_type": "stream",
     "text": [
      "Best params for Lasso Regression:  {'alpha': 1}\n",
      "MSE:  0.5998863142004618\n",
      "r2_score_train:  0.0\n",
      "r2_score_test:  -2.6239585593224035e-07\n",
      "Cross Validation Score:  -0.00954063546237265\n"
     ]
    },
    {
     "name": "stderr",
     "output_type": "stream",
     "text": [
      "d:\\Jupyter Programs\\Portfolio Projects\\MobilePricePrediction\\venv\\Lib\\site-packages\\numpy\\ma\\core.py:2881: RuntimeWarning: invalid value encountered in cast\n",
      "  _data = np.array(data, dtype=dtype, copy=copy,\n"
     ]
    }
   ],
   "source": [
    "from sklearn.linear_model import Lasso\n",
    "from sklearn.model_selection import GridSearchCV\n",
    "\n",
    "\n",
    "estimator = Lasso()\n",
    "paramgrid = {'alpha': list(range(1,100))}\n",
    "grid_search_lasso = GridSearchCV(estimator, paramgrid, cv=5, scoring='r2')\n",
    "grid_search_lasso.fit(X_train, y_train)\n",
    "lasso_model = grid_search_lasso.best_estimator_\n",
    "\n",
    "y_pred_train = lasso_model.predict(X_train)\n",
    "y_pred_test = lasso_model.predict(X_test)\n",
    "mse = mean_squared_error(y_test, y_pred_test)\n",
    "r2_train = r2_score(y_train, y_pred_train)\n",
    "r2_test = r2_score(y_test, y_pred_test)\n",
    "cv = cross_val_score(lasso_model, X_train, y_train, cv=5, scoring='r2')\n",
    "print('Best params for Lasso Regression: ', grid_search_lasso.best_params_)\n",
    "print('MSE: ', mse)\n",
    "print('r2_score_train: ', r2_train)\n",
    "print('r2_score_test: ', r2_test)\n",
    "print('Cross Validation Score: ', cv.mean())\n",
    "\n",
    "scores.append({'Lasso Regression': {'R2_Score_train': r2_train,'R2_Score_test':r2_test, 'MSE': mse, 'Cross Validation Score': cv.mean()}})\n"
   ]
  },
  {
   "cell_type": "markdown",
   "metadata": {},
   "source": [
    "## Ridge Regression"
   ]
  },
  {
   "cell_type": "code",
   "execution_count": 14,
   "metadata": {},
   "outputs": [
    {
     "name": "stdout",
     "output_type": "stream",
     "text": [
      "Best params for Ridge Regression:  {'alpha': 1}\n",
      "MSE:  0.15992067945079733\n",
      "r2_score_train:  0.7592119791234878\n",
      "r2_score_test:  0.7334149527540633\n",
      "Cross Validation Score:  0.7111423568391279\n"
     ]
    }
   ],
   "source": [
    "from sklearn.linear_model import Ridge\n",
    "\n",
    "estimator = Ridge()\n",
    "paramgrid = {'alpha': list(range(1,100))}\n",
    "grid_search_ridge = GridSearchCV(estimator, paramgrid, cv=5, scoring='r2')\n",
    "grid_search_ridge.fit(X_train, y_train)\n",
    "ridge_model = grid_search_ridge.best_estimator_ \n",
    "\n",
    "y_pred_train = ridge_model.predict(X_train)\n",
    "y_pred_test = ridge_model.predict(X_test)\n",
    "mse = mean_squared_error(y_test, y_pred_test)\n",
    "r2_train = r2_score(y_train, y_pred_train)\n",
    "r2_test = r2_score(y_test, y_pred_test)\n",
    "cv = cross_val_score(ridge_model, X_train, y_train, cv=5, scoring='r2')\n",
    "\n",
    "print('Best params for Ridge Regression: ', grid_search_ridge.best_params_)\n",
    "print('MSE: ', mse)\n",
    "print('r2_score_train: ', r2_train)\n",
    "print('r2_score_test: ', r2_test)\n",
    "print('Cross Validation Score: ', cv.mean())\n",
    "\n",
    "scores.append({'Ridge Regression': {'R2_Score_train': float(r2_train),'R2_Score_test':float(r2_test), 'MSE': float(mse), 'Cross Validation Score': float(cv.mean())}})\n"
   ]
  },
  {
   "cell_type": "markdown",
   "metadata": {},
   "source": [
    "## KNeighbors Regressor"
   ]
  },
  {
   "cell_type": "code",
   "execution_count": 15,
   "metadata": {},
   "outputs": [
    {
     "name": "stdout",
     "output_type": "stream",
     "text": [
      "Best params for KNN Regressor:  {'n_neighbors': 11}\n",
      "MSE:  0.18643560619159877\n",
      "r2_score_train:  0.6843010122599781\n",
      "r2_score_test:  0.6892150217495565\n",
      "Cross Validation Score:  0.6226344786965037\n"
     ]
    }
   ],
   "source": [
    "from sklearn.neighbors import KNeighborsRegressor\n",
    "\n",
    "estimator = KNeighborsRegressor()\n",
    "param_grid = {'n_neighbors': list(range(1,100))}\n",
    "grid_search_knn = GridSearchCV(estimator, param_grid, cv=5, scoring='r2')\n",
    "grid_search_knn.fit(X_train, y_train)\n",
    "knn_model = grid_search_knn.best_estimator_\n",
    "\n",
    "y_pred_train =knn_model.predict(X_train)\n",
    "y_pred_test =knn_model.predict(X_test)\n",
    "mse = mean_squared_error(y_test, y_pred_test)\n",
    "r2_train = r2_score(y_train, y_pred_train)\n",
    "r2_test = r2_score(y_test, y_pred_test)\n",
    "cv = cross_val_score(knn_model, X_train, y_train, cv=5, scoring='r2')\n",
    "\n",
    "print('Best params for KNN Regressor: ', grid_search_knn.best_params_)\n",
    "print('MSE: ', mse)\n",
    "print('r2_score_train: ', r2_train)\n",
    "print('r2_score_test: ', r2_test)\n",
    "print('Cross Validation Score: ', cv.mean())\n",
    "\n",
    "scores.append({'KNeighbors Regressor': {'R2_Score_train': r2_train,'R2_Score_test':r2_test, 'MSE': mse, 'Cross Validation Score': cv.mean()}})\n"
   ]
  },
  {
   "cell_type": "markdown",
   "metadata": {},
   "source": [
    "## Decision Regression"
   ]
  },
  {
   "cell_type": "code",
   "execution_count": 16,
   "metadata": {},
   "outputs": [
    {
     "name": "stdout",
     "output_type": "stream",
     "text": [
      "Best params for DecisionTree Regressor:  {'criterion': 'squared_error', 'max_depth': 7}\n",
      "MSE:  0.2254209650935865\n",
      "r2_score_train:  0.7853680180359982\n",
      "r2_score_test:  0.6242270928558216\n",
      "Cross Validation Score:  0.579222384510659\n"
     ]
    }
   ],
   "source": [
    "from sklearn.tree import DecisionTreeRegressor\n",
    "\n",
    "estimator = DecisionTreeRegressor(random_state=42)\n",
    "paramgrid = {'max_depth': list(range(1,10)), 'criterion': ['squared_error', 'absolute_error'] }\n",
    "grid_search_decision = GridSearchCV(estimator, paramgrid, cv=5, scoring='r2')\n",
    "grid_search_decision.fit(X_train, y_train)\n",
    "decisiontree_model = grid_search_decision.best_estimator_\n",
    "\n",
    "y_pred_train = decisiontree_model.predict(X_train)\n",
    "y_pred_test = decisiontree_model.predict(X_test)\n",
    "mse = mean_squared_error(y_test, y_pred_test)\n",
    "r2_train = r2_score(y_train, y_pred_train)\n",
    "r2_test = r2_score(y_test, y_pred_test)\n",
    "cv = cross_val_score(decisiontree_model, X_train, y_train, cv=5, scoring='r2')\n",
    "\n",
    "print('Best params for DecisionTree Regressor: ', grid_search_decision.best_params_)\n",
    "print('MSE: ', mse)\n",
    "print('r2_score_train: ', r2_train)\n",
    "print('r2_score_test: ', r2_test)\n",
    "print('Cross Validation Score: ', cv.mean())\n",
    "\n",
    "scores.append({'DecisionTree Regression': {'R2_Score_train': r2_train,'R2_Score_test':r2_test, 'MSE': mse, 'Cross Validation Score': cv.mean()}})\n",
    "\n"
   ]
  },
  {
   "cell_type": "markdown",
   "metadata": {},
   "source": [
    "## Random Forest Regressor"
   ]
  },
  {
   "cell_type": "code",
   "execution_count": 17,
   "metadata": {},
   "outputs": [
    {
     "name": "stdout",
     "output_type": "stream",
     "text": [
      "Best params for RandomForest Regressor:  {'criterion': 'squared_error', 'max_depth': 9, 'n_estimators': 9}\n",
      "MSE:  0.17539672242091836\n",
      "r2_score_train:  0.8402851878334265\n",
      "r2_score_test:  0.7076166528685304\n",
      "Cross Validation Score:  0.6573920687624544\n"
     ]
    }
   ],
   "source": [
    "from sklearn.ensemble import RandomForestRegressor\n",
    "\n",
    "estimator = RandomForestRegressor(random_state=42)\n",
    "paramgrid = {'n_estimators': list(range(1,10)),'max_depth': list(range(1,10)), 'criterion': ['squared_error', 'absolute_error']}\n",
    "grid_search_randomforest = GridSearchCV(estimator, paramgrid, cv=5, scoring='r2')\n",
    "grid_search_randomforest.fit(X_train, y_train)\n",
    "randomforest_model = grid_search_randomforest.best_estimator_\n",
    "\n",
    "y_pred_train = randomforest_model.predict(X_train)\n",
    "y_pred_test = randomforest_model.predict(X_test)\n",
    "mse = mean_squared_error(y_test, y_pred_test)\n",
    "r2_train = r2_score(y_train, y_pred_train)\n",
    "r2_test = r2_score(y_test, y_pred_test)\n",
    "cv = cross_val_score(randomforest_model, X_train, y_train, cv=5, scoring='r2')\n",
    "\n",
    "print('Best params for RandomForest Regressor: ', grid_search_randomforest.best_params_)\n",
    "print('MSE: ', mse)\n",
    "print('r2_score_train: ', r2_train)\n",
    "print('r2_score_test: ', r2_test)\n",
    "print('Cross Validation Score: ', cv.mean())\n",
    "\n",
    "scores.append({'RandomForest Regression': {'R2_Score_train': r2_train,'R2_Score_test':r2_test, 'MSE': mse, 'Cross Validation Score': cv.mean()}})\n",
    "\n"
   ]
  },
  {
   "cell_type": "markdown",
   "metadata": {},
   "source": [
    "## AdaBoost Regressor"
   ]
  },
  {
   "cell_type": "code",
   "execution_count": 18,
   "metadata": {},
   "outputs": [
    {
     "name": "stdout",
     "output_type": "stream",
     "text": [
      "Best params for Adaboost Regressor:  {'learning_rate': 0.5, 'n_estimators': 9}\n",
      "MSE:  0.24269603649137636\n",
      "r2_score_train:  0.6135092681022793\n",
      "r2_score_test:  0.5954298432407482\n",
      "Cross Validation Score:  0.583535588957391\n"
     ]
    }
   ],
   "source": [
    "from sklearn.ensemble import AdaBoostRegressor\n",
    "\n",
    "estimator = AdaBoostRegressor(random_state=42)\n",
    "paramgrid = {'n_estimators': list(range(1,10)), 'learning_rate': [0.1, 0.5, 1.0]}\n",
    "grid_search_adaboost = GridSearchCV(estimator, paramgrid, cv=5, scoring='r2')\n",
    "grid_search_adaboost.fit(X_train, y_train)\n",
    "adaboost_model = grid_search_adaboost.best_estimator_\n",
    "\n",
    "y_pred_train = adaboost_model.predict(X_train)\n",
    "y_pred_test = adaboost_model.predict(X_test)\n",
    "mse = mean_squared_error(y_test, y_pred_test)\n",
    "r2_train = r2_score(y_train, y_pred_train)\n",
    "r2_test = r2_score(y_test, y_pred_test)\n",
    "cv = cross_val_score(adaboost_model, X_train, y_train, cv=5, scoring='r2')\n",
    "\n",
    "print('Best params for Adaboost Regressor: ', grid_search_adaboost.best_params_)\n",
    "print('MSE: ', mse)\n",
    "print('r2_score_train: ', r2_train)\n",
    "print('r2_score_test: ', r2_test)\n",
    "print('Cross Validation Score: ', cv.mean())\n",
    "\n",
    "scores.append({'AdaBoost Regressor': {'R2_Score_train': r2_train,'R2_Score_test':r2_test, 'MSE': mse, 'Cross Validation Score': cv.mean()}})\n",
    "\n"
   ]
  },
  {
   "cell_type": "markdown",
   "metadata": {},
   "source": [
    "## Gradient Boosting Regressor"
   ]
  },
  {
   "cell_type": "code",
   "execution_count": 19,
   "metadata": {},
   "outputs": [
    {
     "name": "stdout",
     "output_type": "stream",
     "text": [
      "Best params for Gradientboost Regressor:  {'learning_rate': 0.5, 'n_estimators': 9}\n",
      "MSE:  0.1758847642171237\n",
      "r2_score_train:  0.7506962267098456\n",
      "r2_score_test:  0.706803095511557\n",
      "Cross Validation Score:  0.683105591915805\n"
     ]
    }
   ],
   "source": [
    "from sklearn.ensemble import GradientBoostingRegressor\n",
    "\n",
    "estimator = GradientBoostingRegressor(random_state=42)\n",
    "paramgrid = {'n_estimators': list(range(1,10)), 'learning_rate': [0.1, 0.5, 1.0]}\n",
    "grid_search_gradientboost = GridSearchCV(estimator, paramgrid, cv=5, scoring='r2')\n",
    "grid_search_gradientboost.fit(X_train, y_train)\n",
    "gradientboost_model = grid_search_gradientboost.best_estimator_\n",
    "\n",
    "y_pred_train = gradientboost_model.predict(X_train)\n",
    "y_pred_test = gradientboost_model.predict(X_test)\n",
    "mse = mean_squared_error(y_test, y_pred_test)\n",
    "r2_train = r2_score(y_train, y_pred_train)\n",
    "r2_test = r2_score(y_test, y_pred_test)\n",
    "cv = cross_val_score(gradientboost_model, X_train, y_train, cv=5, scoring='r2')\n",
    "\n",
    "print('Best params for Gradientboost Regressor: ', grid_search_gradientboost.best_params_)\n",
    "print('MSE: ', mse)\n",
    "print('r2_score_train: ', r2_train)\n",
    "print('r2_score_test: ', r2_test)\n",
    "print('Cross Validation Score: ', cv.mean())\n",
    "\n",
    "scores.append({'GradientBoost Regressor': {'R2_Score_train': r2_train,'R2_Score_test':r2_test, 'MSE': mse, 'Cross Validation Score': cv.mean()}})\n"
   ]
  },
  {
   "cell_type": "markdown",
   "metadata": {},
   "source": [
    "## Xgboost Regressor"
   ]
  },
  {
   "cell_type": "code",
   "execution_count": 20,
   "metadata": {},
   "outputs": [
    {
     "name": "stdout",
     "output_type": "stream",
     "text": [
      "Best params for Xgboost Regressor:  {'gamma': 0.1, 'learning_rate': 0.5, 'n_estimators': 9}\n",
      "MSE:  0.15123584899353595\n",
      "r2_score_train:  0.8546361225454101\n",
      "r2_score_test:  0.7478924171177906\n",
      "Cross Validation Score:  0.6825610465211035\n"
     ]
    }
   ],
   "source": [
    "from xgboost import XGBRegressor\n",
    "\n",
    "estimator = XGBRegressor(random_state=42)\n",
    "param_grid = {'n_estimators': list(range(1,10)), 'learning_rate': [0.1, 0.5, 1.0], 'gamma': [0, 0.1, 0.5,1]}\n",
    "grid_search_xgboost = GridSearchCV(estimator, param_grid, cv=5, scoring='r2')\n",
    "grid_search_xgboost.fit(X_train, y_train)\n",
    "xgboost_model = grid_search_xgboost.best_estimator_\n",
    "\n",
    "y_pred_train = xgboost_model.predict(X_train)\n",
    "y_pred_test = xgboost_model.predict(X_test)\n",
    "mse = mean_squared_error(y_test, y_pred_test)\n",
    "r2_train = r2_score(y_train, y_pred_train)\n",
    "r2_test = r2_score(y_test, y_pred_test)\n",
    "cv = cross_val_score(xgboost_model, X_train, y_train, cv=5, scoring='r2')\n",
    "\n",
    "print('Best params for Xgboost Regressor: ', grid_search_xgboost.best_params_)\n",
    "print('MSE: ', mse)\n",
    "print('r2_score_train: ', r2_train)\n",
    "print('r2_score_test: ', r2_test)\n",
    "print('Cross Validation Score: ', cv.mean())\n",
    "\n",
    "scores.append({'Xgboost Regressor': {'R2_Score_train': r2_train,'R2_Score_test':r2_test, 'MSE': mse, 'Cross Validation Score': cv.mean()}})\n",
    "\n",
    "\n",
    "\n"
   ]
  },
  {
   "cell_type": "code",
   "execution_count": 21,
   "metadata": {},
   "outputs": [
    {
     "data": {
      "text/plain": [
       "[{'Linear Regression': {'R2_Score_train': 0.763850825536035,\n",
       "   'R2_Score_test': 0.7294760616417002,\n",
       "   'MSE': np.float64(0.16228356570221825),\n",
       "   'Cross Validation Score': np.float64(0.7103994251760269)}},\n",
       " {'Lasso Regression': {'R2_Score_train': 0.0,\n",
       "   'R2_Score_test': -2.6239585593224035e-07,\n",
       "   'MSE': np.float64(0.5998863142004618),\n",
       "   'Cross Validation Score': np.float64(-0.00954063546237265)}},\n",
       " {'Ridge Regression': {'R2_Score_train': 0.7592119791234878,\n",
       "   'R2_Score_test': 0.7334149527540633,\n",
       "   'MSE': 0.15992067945079733,\n",
       "   'Cross Validation Score': 0.7111423568391279}},\n",
       " {'KNeighbors Regressor': {'R2_Score_train': 0.6843010122599781,\n",
       "   'R2_Score_test': 0.6892150217495565,\n",
       "   'MSE': np.float64(0.18643560619159877),\n",
       "   'Cross Validation Score': np.float64(0.6226344786965037)}},\n",
       " {'DecisionTree Regression': {'R2_Score_train': 0.7853680180359982,\n",
       "   'R2_Score_test': 0.6242270928558216,\n",
       "   'MSE': np.float64(0.2254209650935865),\n",
       "   'Cross Validation Score': np.float64(0.579222384510659)}},\n",
       " {'RandomForest Regression': {'R2_Score_train': 0.8402851878334265,\n",
       "   'R2_Score_test': 0.7076166528685304,\n",
       "   'MSE': np.float64(0.17539672242091836),\n",
       "   'Cross Validation Score': np.float64(0.6573920687624544)}},\n",
       " {'AdaBoost Regressor': {'R2_Score_train': 0.6135092681022793,\n",
       "   'R2_Score_test': 0.5954298432407482,\n",
       "   'MSE': np.float64(0.24269603649137636),\n",
       "   'Cross Validation Score': np.float64(0.583535588957391)}},\n",
       " {'GradientBoost Regressor': {'R2_Score_train': 0.7506962267098456,\n",
       "   'R2_Score_test': 0.706803095511557,\n",
       "   'MSE': np.float64(0.1758847642171237),\n",
       "   'Cross Validation Score': np.float64(0.683105591915805)}},\n",
       " {'Xgboost Regressor': {'R2_Score_train': 0.8546361225454101,\n",
       "   'R2_Score_test': 0.7478924171177906,\n",
       "   'MSE': np.float64(0.15123584899353595),\n",
       "   'Cross Validation Score': np.float64(0.6825610465211035)}}]"
      ]
     },
     "execution_count": 21,
     "metadata": {},
     "output_type": "execute_result"
    }
   ],
   "source": [
    "scores"
   ]
  },
  {
   "cell_type": "code",
   "execution_count": 22,
   "metadata": {},
   "outputs": [
    {
     "data": {
      "text/html": [
       "<div>\n",
       "<style scoped>\n",
       "    .dataframe tbody tr th:only-of-type {\n",
       "        vertical-align: middle;\n",
       "    }\n",
       "\n",
       "    .dataframe tbody tr th {\n",
       "        vertical-align: top;\n",
       "    }\n",
       "\n",
       "    .dataframe thead th {\n",
       "        text-align: right;\n",
       "    }\n",
       "</style>\n",
       "<table border=\"1\" class=\"dataframe\">\n",
       "  <thead>\n",
       "    <tr style=\"text-align: right;\">\n",
       "      <th></th>\n",
       "      <th>Model</th>\n",
       "      <th>R2_Train</th>\n",
       "      <th>R2_Test</th>\n",
       "      <th>MSE</th>\n",
       "      <th>Cross Validation Score</th>\n",
       "    </tr>\n",
       "  </thead>\n",
       "  <tbody>\n",
       "    <tr>\n",
       "      <th>0</th>\n",
       "      <td>Linear Regression</td>\n",
       "      <td>0.763851</td>\n",
       "      <td>7.294761e-01</td>\n",
       "      <td>0.162284</td>\n",
       "      <td>0.710399</td>\n",
       "    </tr>\n",
       "    <tr>\n",
       "      <th>1</th>\n",
       "      <td>Lasso Regression</td>\n",
       "      <td>0.000000</td>\n",
       "      <td>-2.623959e-07</td>\n",
       "      <td>0.599886</td>\n",
       "      <td>-0.009541</td>\n",
       "    </tr>\n",
       "    <tr>\n",
       "      <th>2</th>\n",
       "      <td>Ridge Regression</td>\n",
       "      <td>0.759212</td>\n",
       "      <td>7.334150e-01</td>\n",
       "      <td>0.159921</td>\n",
       "      <td>0.711142</td>\n",
       "    </tr>\n",
       "    <tr>\n",
       "      <th>3</th>\n",
       "      <td>KNeighbors Regressor</td>\n",
       "      <td>0.684301</td>\n",
       "      <td>6.892150e-01</td>\n",
       "      <td>0.186436</td>\n",
       "      <td>0.622634</td>\n",
       "    </tr>\n",
       "    <tr>\n",
       "      <th>4</th>\n",
       "      <td>DecisionTree Regression</td>\n",
       "      <td>0.785368</td>\n",
       "      <td>6.242271e-01</td>\n",
       "      <td>0.225421</td>\n",
       "      <td>0.579222</td>\n",
       "    </tr>\n",
       "    <tr>\n",
       "      <th>5</th>\n",
       "      <td>RandomForest Regression</td>\n",
       "      <td>0.840285</td>\n",
       "      <td>7.076167e-01</td>\n",
       "      <td>0.175397</td>\n",
       "      <td>0.657392</td>\n",
       "    </tr>\n",
       "    <tr>\n",
       "      <th>6</th>\n",
       "      <td>AdaBoost Regressor</td>\n",
       "      <td>0.613509</td>\n",
       "      <td>5.954298e-01</td>\n",
       "      <td>0.242696</td>\n",
       "      <td>0.583536</td>\n",
       "    </tr>\n",
       "    <tr>\n",
       "      <th>7</th>\n",
       "      <td>GradientBoost Regressor</td>\n",
       "      <td>0.750696</td>\n",
       "      <td>7.068031e-01</td>\n",
       "      <td>0.175885</td>\n",
       "      <td>0.683106</td>\n",
       "    </tr>\n",
       "    <tr>\n",
       "      <th>8</th>\n",
       "      <td>Xgboost Regressor</td>\n",
       "      <td>0.854636</td>\n",
       "      <td>7.478924e-01</td>\n",
       "      <td>0.151236</td>\n",
       "      <td>0.682561</td>\n",
       "    </tr>\n",
       "  </tbody>\n",
       "</table>\n",
       "</div>"
      ],
      "text/plain": [
       "                     Model  R2_Train       R2_Test       MSE  \\\n",
       "0        Linear Regression  0.763851  7.294761e-01  0.162284   \n",
       "1         Lasso Regression  0.000000 -2.623959e-07  0.599886   \n",
       "2         Ridge Regression  0.759212  7.334150e-01  0.159921   \n",
       "3     KNeighbors Regressor  0.684301  6.892150e-01  0.186436   \n",
       "4  DecisionTree Regression  0.785368  6.242271e-01  0.225421   \n",
       "5  RandomForest Regression  0.840285  7.076167e-01  0.175397   \n",
       "6       AdaBoost Regressor  0.613509  5.954298e-01  0.242696   \n",
       "7  GradientBoost Regressor  0.750696  7.068031e-01  0.175885   \n",
       "8        Xgboost Regressor  0.854636  7.478924e-01  0.151236   \n",
       "\n",
       "   Cross Validation Score  \n",
       "0                0.710399  \n",
       "1               -0.009541  \n",
       "2                0.711142  \n",
       "3                0.622634  \n",
       "4                0.579222  \n",
       "5                0.657392  \n",
       "6                0.583536  \n",
       "7                0.683106  \n",
       "8                0.682561  "
      ]
     },
     "execution_count": 22,
     "metadata": {},
     "output_type": "execute_result"
    }
   ],
   "source": [
    "model_name = []\n",
    "r2_train = []\n",
    "r2_test = []\n",
    "mse = []\n",
    "cv = []\n",
    "#pd.reset_option('display.float_format')\n",
    "for model in scores:\n",
    "    for name, metrics in model.items():\n",
    "        model_name.append(name)\n",
    "        r2_train.append(float(metrics['R2_Score_train']))\n",
    "        r2_test .append(float(metrics['R2_Score_test']))\n",
    "        mse.append(float(metrics['MSE']))\n",
    "        cv.append(float(metrics['Cross Validation Score']))\n",
    "\n",
    "scores_df = pd.DataFrame({\n",
    "    'Model': model_name,\n",
    "    'R2_Train': r2_train,\n",
    "    'R2_Test': r2_test,\n",
    "    'MSE': mse,\n",
    "    'Cross Validation Score': cv\n",
    "})\n",
    "\n",
    "scores_df"
   ]
  },
  {
   "cell_type": "markdown",
   "metadata": {},
   "source": [
    "##### The best model should be Xgboost Regressor"
   ]
  },
  {
   "cell_type": "code",
   "execution_count": 10,
   "metadata": {},
   "outputs": [
    {
     "data": {
      "text/html": [
       "<div>\n",
       "<style scoped>\n",
       "    .dataframe tbody tr th:only-of-type {\n",
       "        vertical-align: middle;\n",
       "    }\n",
       "\n",
       "    .dataframe tbody tr th {\n",
       "        vertical-align: top;\n",
       "    }\n",
       "\n",
       "    .dataframe thead th {\n",
       "        text-align: right;\n",
       "    }\n",
       "</style>\n",
       "<table border=\"1\" class=\"dataframe\">\n",
       "  <thead>\n",
       "    <tr style=\"text-align: right;\">\n",
       "      <th></th>\n",
       "      <th>One</th>\n",
       "      <th>Two</th>\n",
       "    </tr>\n",
       "  </thead>\n",
       "  <tbody>\n",
       "  </tbody>\n",
       "</table>\n",
       "</div>"
      ],
      "text/plain": [
       "Empty DataFrame\n",
       "Columns: [One, Two]\n",
       "Index: []"
      ]
     },
     "execution_count": 10,
     "metadata": {},
     "output_type": "execute_result"
    }
   ],
   "source": [
    "import pandas as pd\n",
    "df = pd.DataFrame(columns=['One', 'Two'])\n",
    "df['One'] = 2\n",
    "df['Two'] = 3\n",
    "df"
   ]
  },
  {
   "cell_type": "code",
   "execution_count": null,
   "metadata": {},
   "outputs": [],
   "source": []
  }
 ],
 "metadata": {
  "kernelspec": {
   "display_name": "Python 3",
   "language": "python",
   "name": "python3"
  },
  "language_info": {
   "codemirror_mode": {
    "name": "ipython",
    "version": 3
   },
   "file_extension": ".py",
   "mimetype": "text/x-python",
   "name": "python",
   "nbconvert_exporter": "python",
   "pygments_lexer": "ipython3",
   "version": "3.11.5"
  }
 },
 "nbformat": 4,
 "nbformat_minor": 2
}
