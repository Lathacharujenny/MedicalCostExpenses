{
 "cells": [
  {
   "cell_type": "markdown",
   "metadata": {},
   "source": [
    "## Model_training"
   ]
  },
  {
   "cell_type": "code",
   "execution_count": 1,
   "metadata": {},
   "outputs": [],
   "source": [
    "import numpy as np\n",
    "import pandas as pd\n",
    "from sklearn.preprocessing import OneHotEncoder, StandardScaler\n",
    "from sklearn.compose import ColumnTransformer\n",
    "from sklearn.model_selection import train_test_split"
   ]
  },
  {
   "cell_type": "code",
   "execution_count": 2,
   "metadata": {},
   "outputs": [
    {
     "data": {
      "text/html": [
       "<div>\n",
       "<style scoped>\n",
       "    .dataframe tbody tr th:only-of-type {\n",
       "        vertical-align: middle;\n",
       "    }\n",
       "\n",
       "    .dataframe tbody tr th {\n",
       "        vertical-align: top;\n",
       "    }\n",
       "\n",
       "    .dataframe thead th {\n",
       "        text-align: right;\n",
       "    }\n",
       "</style>\n",
       "<table border=\"1\" class=\"dataframe\">\n",
       "  <thead>\n",
       "    <tr style=\"text-align: right;\">\n",
       "      <th></th>\n",
       "      <th>Brand</th>\n",
       "      <th>Battery_capacity(mAh)</th>\n",
       "      <th>Screen_size(inches)</th>\n",
       "      <th>Touchscreen</th>\n",
       "      <th>Processor</th>\n",
       "      <th>Operating system</th>\n",
       "      <th>Wi-Fi</th>\n",
       "      <th>Bluetooth</th>\n",
       "      <th>GPS</th>\n",
       "      <th>3G</th>\n",
       "      <th>4G/ LTE</th>\n",
       "      <th>Resolution_width(px)</th>\n",
       "      <th>Resolution_height(px)</th>\n",
       "      <th>Price</th>\n",
       "      <th>Internal_storage(GB)</th>\n",
       "      <th>Rear_Camera(MP)</th>\n",
       "      <th>Front_Camera(MP)</th>\n",
       "      <th>RAM(GB)</th>\n",
       "      <th>Number of SIMs</th>\n",
       "    </tr>\n",
       "  </thead>\n",
       "  <tbody>\n",
       "    <tr>\n",
       "      <th>0</th>\n",
       "      <td>oneplus</td>\n",
       "      <td>4085</td>\n",
       "      <td>7</td>\n",
       "      <td>Yes</td>\n",
       "      <td>8</td>\n",
       "      <td>android</td>\n",
       "      <td>Yes</td>\n",
       "      <td>Yes</td>\n",
       "      <td>Yes</td>\n",
       "      <td>Yes</td>\n",
       "      <td>Yes</td>\n",
       "      <td>1440</td>\n",
       "      <td>3120</td>\n",
       "      <td>10.985276</td>\n",
       "      <td>5.549076</td>\n",
       "      <td>4.142627</td>\n",
       "      <td>3.689184</td>\n",
       "      <td>3.180631</td>\n",
       "      <td>16</td>\n",
       "    </tr>\n",
       "    <tr>\n",
       "      <th>1</th>\n",
       "      <td>realme</td>\n",
       "      <td>4000</td>\n",
       "      <td>7</td>\n",
       "      <td>Yes</td>\n",
       "      <td>8</td>\n",
       "      <td>android</td>\n",
       "      <td>Yes</td>\n",
       "      <td>Yes</td>\n",
       "      <td>Yes</td>\n",
       "      <td>Yes</td>\n",
       "      <td>Yes</td>\n",
       "      <td>1080</td>\n",
       "      <td>2400</td>\n",
       "      <td>10.239960</td>\n",
       "      <td>4.174387</td>\n",
       "      <td>4.463819</td>\n",
       "      <td>3.689184</td>\n",
       "      <td>2.287895</td>\n",
       "      <td>16</td>\n",
       "    </tr>\n",
       "    <tr>\n",
       "      <th>2</th>\n",
       "      <td>apple</td>\n",
       "      <td>3969</td>\n",
       "      <td>7</td>\n",
       "      <td>Yes</td>\n",
       "      <td>6</td>\n",
       "      <td>ios</td>\n",
       "      <td>Yes</td>\n",
       "      <td>Yes</td>\n",
       "      <td>Yes</td>\n",
       "      <td>Yes</td>\n",
       "      <td>Yes</td>\n",
       "      <td>1242</td>\n",
       "      <td>2688</td>\n",
       "      <td>11.579658</td>\n",
       "      <td>4.174387</td>\n",
       "      <td>2.672344</td>\n",
       "      <td>3.254454</td>\n",
       "      <td>1.838961</td>\n",
       "      <td>16</td>\n",
       "    </tr>\n",
       "    <tr>\n",
       "      <th>3</th>\n",
       "      <td>apple</td>\n",
       "      <td>3110</td>\n",
       "      <td>6</td>\n",
       "      <td>Yes</td>\n",
       "      <td>6</td>\n",
       "      <td>ios</td>\n",
       "      <td>Yes</td>\n",
       "      <td>Yes</td>\n",
       "      <td>Yes</td>\n",
       "      <td>Yes</td>\n",
       "      <td>Yes</td>\n",
       "      <td>828</td>\n",
       "      <td>1792</td>\n",
       "      <td>11.049317</td>\n",
       "      <td>4.174387</td>\n",
       "      <td>2.672344</td>\n",
       "      <td>3.254454</td>\n",
       "      <td>1.838961</td>\n",
       "      <td>16</td>\n",
       "    </tr>\n",
       "    <tr>\n",
       "      <th>4</th>\n",
       "      <td>lg</td>\n",
       "      <td>4000</td>\n",
       "      <td>6</td>\n",
       "      <td>Yes</td>\n",
       "      <td>8</td>\n",
       "      <td>android</td>\n",
       "      <td>Yes</td>\n",
       "      <td>Yes</td>\n",
       "      <td>Yes</td>\n",
       "      <td>No</td>\n",
       "      <td>No</td>\n",
       "      <td>1080</td>\n",
       "      <td>2340</td>\n",
       "      <td>10.819598</td>\n",
       "      <td>4.859812</td>\n",
       "      <td>2.672344</td>\n",
       "      <td>4.858008</td>\n",
       "      <td>2.287895</td>\n",
       "      <td>1</td>\n",
       "    </tr>\n",
       "  </tbody>\n",
       "</table>\n",
       "</div>"
      ],
      "text/plain": [
       "     Brand  Battery_capacity(mAh)  Screen_size(inches) Touchscreen  Processor  \\\n",
       "0  oneplus                   4085                    7         Yes          8   \n",
       "1   realme                   4000                    7         Yes          8   \n",
       "2    apple                   3969                    7         Yes          6   \n",
       "3    apple                   3110                    6         Yes          6   \n",
       "4       lg                   4000                    6         Yes          8   \n",
       "\n",
       "  Operating system Wi-Fi Bluetooth  GPS   3G 4G/ LTE  Resolution_width(px)  \\\n",
       "0          android   Yes       Yes  Yes  Yes     Yes                  1440   \n",
       "1          android   Yes       Yes  Yes  Yes     Yes                  1080   \n",
       "2              ios   Yes       Yes  Yes  Yes     Yes                  1242   \n",
       "3              ios   Yes       Yes  Yes  Yes     Yes                   828   \n",
       "4          android   Yes       Yes  Yes   No      No                  1080   \n",
       "\n",
       "   Resolution_height(px)      Price  Internal_storage(GB)  Rear_Camera(MP)  \\\n",
       "0                   3120  10.985276              5.549076         4.142627   \n",
       "1                   2400  10.239960              4.174387         4.463819   \n",
       "2                   2688  11.579658              4.174387         2.672344   \n",
       "3                   1792  11.049317              4.174387         2.672344   \n",
       "4                   2340  10.819598              4.859812         2.672344   \n",
       "\n",
       "   Front_Camera(MP)   RAM(GB)  Number of SIMs  \n",
       "0          3.689184  3.180631              16  \n",
       "1          3.689184  2.287895              16  \n",
       "2          3.254454  1.838961              16  \n",
       "3          3.254454  1.838961              16  \n",
       "4          4.858008  2.287895               1  "
      ]
     },
     "execution_count": 2,
     "metadata": {},
     "output_type": "execute_result"
    }
   ],
   "source": [
    "df = pd.read_csv('../data/skewed_data.csv')\n",
    "df.head()"
   ]
  },
  {
   "cell_type": "code",
   "execution_count": 3,
   "metadata": {},
   "outputs": [
    {
     "data": {
      "text/plain": [
       "Brand                     object\n",
       "Battery_capacity(mAh)      int64\n",
       "Screen_size(inches)        int64\n",
       "Touchscreen               object\n",
       "Processor                  int64\n",
       "Operating system          object\n",
       "Wi-Fi                     object\n",
       "Bluetooth                 object\n",
       "GPS                       object\n",
       "3G                        object\n",
       "4G/ LTE                   object\n",
       "Resolution_width(px)       int64\n",
       "Resolution_height(px)      int64\n",
       "Price                    float64\n",
       "Internal_storage(GB)     float64\n",
       "Rear_Camera(MP)          float64\n",
       "Front_Camera(MP)         float64\n",
       "RAM(GB)                  float64\n",
       "Number of SIMs             int64\n",
       "dtype: object"
      ]
     },
     "execution_count": 3,
     "metadata": {},
     "output_type": "execute_result"
    }
   ],
   "source": [
    "df.dtypes"
   ]
  },
  {
   "cell_type": "code",
   "execution_count": 3,
   "metadata": {},
   "outputs": [],
   "source": [
    "X = df.drop('Price', axis=1)\n",
    "y = df['Price']"
   ]
  },
  {
   "cell_type": "code",
   "execution_count": 4,
   "metadata": {},
   "outputs": [],
   "source": [
    "num_features = X.select_dtypes(exclude='object').columns\n",
    "categorical_features = ['Brand', 'Touchscreen', 'Operating system', 'Wi-Fi',\n",
    "       'Bluetooth', 'GPS', '3G', '4G/ LTE']\n"
   ]
  },
  {
   "cell_type": "code",
   "execution_count": 5,
   "metadata": {},
   "outputs": [
    {
     "data": {
      "text/plain": [
       "(1359, 105)"
      ]
     },
     "execution_count": 5,
     "metadata": {},
     "output_type": "execute_result"
    }
   ],
   "source": [
    "\n",
    "preprocessor = ColumnTransformer([\n",
    "    ('OneHotEncoder',OneHotEncoder(), categorical_features),\n",
    "    ('MinMaxScaler', StandardScaler(), num_features)\n",
    "])\n",
    "X_preprocessed = preprocessor.fit_transform(X)\n",
    "X_preprocessed.shape\n"
   ]
  },
  {
   "cell_type": "code",
   "execution_count": 6,
   "metadata": {},
   "outputs": [],
   "source": [
    "X_train, X_test, y_train, y_test = train_test_split(X_preprocessed, y, test_size=0.2, random_state=42)\n",
    "scores = []"
   ]
  },
  {
   "cell_type": "markdown",
   "metadata": {},
   "source": [
    "## Linear regression"
   ]
  },
  {
   "cell_type": "code",
   "execution_count": 8,
   "metadata": {},
   "outputs": [
    {
     "name": "stdout",
     "output_type": "stream",
     "text": [
      "MSE:  0.160258124592934\n",
      "r2_score_train:  0.7659135946654486\n",
      "r2_score_test:  0.7373866629579231\n",
      "Cross Validation Score:  0.7052685889793147\n"
     ]
    }
   ],
   "source": [
    "from sklearn.linear_model import LinearRegression\n",
    "from sklearn.metrics import mean_squared_error, r2_score\n",
    "from sklearn.model_selection import cross_val_score\n",
    "\n",
    "linear_model = LinearRegression()\n",
    "linear_model.fit(X_train, y_train)\n",
    "y_pred_train = linear_model.predict(X_train)\n",
    "y_pred_test = linear_model.predict(X_test)\n",
    "\n",
    "mse = mean_squared_error(y_test, y_pred_test)\n",
    "r2_train = r2_score(y_train, y_pred_train)\n",
    "r2_test = r2_score(y_test, y_pred_test)\n",
    "cv = cross_val_score(linear_model, X_train, y_train, cv=5, scoring='r2')\n",
    "print('MSE: ', mse)\n",
    "print('r2_score_train: ', r2_train)\n",
    "print('r2_score_test: ', r2_test)\n",
    "print('Cross Validation Score: ', cv.mean())\n",
    "\n",
    "scores.append({'Linear Regression': {'R2_Score_train': r2_train,'R2_Score_test':r2_test, 'MSE': mse, 'Cross Validation Score': cv.mean()}})\n",
    "\n"
   ]
  },
  {
   "cell_type": "markdown",
   "metadata": {},
   "source": [
    "## Lasso Regression"
   ]
  },
  {
   "cell_type": "code",
   "execution_count": 9,
   "metadata": {},
   "outputs": [
    {
     "name": "stdout",
     "output_type": "stream",
     "text": [
      "Best params for Lasso Regression:  {'alpha': 1}\n",
      "MSE:  0.6120362053965209\n",
      "r2_score_train:  0.0\n",
      "r2_score_test:  -0.002937421725182965\n",
      "Cross Validation Score:  -0.0061920203840522435\n"
     ]
    },
    {
     "name": "stderr",
     "output_type": "stream",
     "text": [
      "d:\\Jupyter Programs\\Portfolio Projects\\MobilePricePrediction\\venv\\Lib\\site-packages\\numpy\\ma\\core.py:2881: RuntimeWarning: invalid value encountered in cast\n",
      "  _data = np.array(data, dtype=dtype, copy=copy,\n"
     ]
    }
   ],
   "source": [
    "from sklearn.linear_model import Lasso\n",
    "from sklearn.model_selection import GridSearchCV\n",
    "\n",
    "\n",
    "estimator = Lasso()\n",
    "paramgrid = {'alpha': list(range(1,100))}\n",
    "grid_search_lasso = GridSearchCV(estimator, paramgrid, cv=5, scoring='r2')\n",
    "grid_search_lasso.fit(X_train, y_train)\n",
    "lasso_model = grid_search_lasso.best_estimator_\n",
    "\n",
    "y_pred_train = lasso_model.predict(X_train)\n",
    "y_pred_test = lasso_model.predict(X_test)\n",
    "mse = mean_squared_error(y_test, y_pred_test)\n",
    "r2_train = r2_score(y_train, y_pred_train)\n",
    "r2_test = r2_score(y_test, y_pred_test)\n",
    "cv = cross_val_score(lasso_model, X_train, y_train, cv=5, scoring='r2')\n",
    "print('Best params for Lasso Regression: ', grid_search_lasso.best_params_)\n",
    "print('MSE: ', mse)\n",
    "print('r2_score_train: ', r2_train)\n",
    "print('r2_score_test: ', r2_test)\n",
    "print('Cross Validation Score: ', cv.mean())\n",
    "\n",
    "scores.append({'Lasso Regression': {'R2_Score_train': r2_train,'R2_Score_test':r2_test, 'MSE': mse, 'Cross Validation Score': cv.mean()}})\n"
   ]
  },
  {
   "cell_type": "markdown",
   "metadata": {},
   "source": [
    "## Ridge Regression"
   ]
  },
  {
   "cell_type": "code",
   "execution_count": 10,
   "metadata": {},
   "outputs": [
    {
     "name": "stdout",
     "output_type": "stream",
     "text": [
      "Best params for Ridge Regression:  {'alpha': 1}\n",
      "MSE:  0.15776077915773534\n",
      "r2_score_train:  0.7607925578139166\n",
      "r2_score_test:  0.741479037183256\n",
      "Cross Validation Score:  0.7082008331796612\n"
     ]
    }
   ],
   "source": [
    "from sklearn.linear_model import Ridge\n",
    "\n",
    "estimator = Ridge()\n",
    "paramgrid = {'alpha': list(range(1,100))}\n",
    "grid_search_ridge = GridSearchCV(estimator, paramgrid, cv=5, scoring='r2')\n",
    "grid_search_ridge.fit(X_train, y_train)\n",
    "ridge_model = grid_search_ridge.best_estimator_ \n",
    "\n",
    "y_pred_train = ridge_model.predict(X_train)\n",
    "y_pred_test = ridge_model.predict(X_test)\n",
    "mse = mean_squared_error(y_test, y_pred_test)\n",
    "r2_train = r2_score(y_train, y_pred_train)\n",
    "r2_test = r2_score(y_test, y_pred_test)\n",
    "cv = cross_val_score(ridge_model, X_train, y_train, cv=5, scoring='r2')\n",
    "\n",
    "print('Best params for Ridge Regression: ', grid_search_ridge.best_params_)\n",
    "print('MSE: ', mse)\n",
    "print('r2_score_train: ', r2_train)\n",
    "print('r2_score_test: ', r2_test)\n",
    "print('Cross Validation Score: ', cv.mean())\n",
    "\n",
    "scores.append({'Ridge Regression': {'R2_Score_train': float(r2_train),'R2_Score_test':float(r2_test), 'MSE': float(mse), 'Cross Validation Score': float(cv.mean())}})\n"
   ]
  },
  {
   "cell_type": "markdown",
   "metadata": {},
   "source": [
    "## KNeighbors Regressor"
   ]
  },
  {
   "cell_type": "code",
   "execution_count": 11,
   "metadata": {},
   "outputs": [
    {
     "name": "stdout",
     "output_type": "stream",
     "text": [
      "Best params for KNN Regressor:  {'n_neighbors': 11}\n",
      "MSE:  0.19694216855337648\n",
      "r2_score_train:  0.6853521932714332\n",
      "r2_score_test:  0.6772728982104551\n",
      "Cross Validation Score:  0.6206688721108049\n"
     ]
    }
   ],
   "source": [
    "from sklearn.neighbors import KNeighborsRegressor\n",
    "\n",
    "estimator = KNeighborsRegressor()\n",
    "param_grid = {'n_neighbors': list(range(1,100))}\n",
    "grid_search_knn = GridSearchCV(estimator, param_grid, cv=5, scoring='r2')\n",
    "grid_search_knn.fit(X_train, y_train)\n",
    "knn_model = grid_search_knn.best_estimator_\n",
    "\n",
    "y_pred_train =knn_model.predict(X_train)\n",
    "y_pred_test =knn_model.predict(X_test)\n",
    "mse = mean_squared_error(y_test, y_pred_test)\n",
    "r2_train = r2_score(y_train, y_pred_train)\n",
    "r2_test = r2_score(y_test, y_pred_test)\n",
    "cv = cross_val_score(knn_model, X_train, y_train, cv=5, scoring='r2')\n",
    "\n",
    "print('Best params for KNN Regressor: ', grid_search_knn.best_params_)\n",
    "print('MSE: ', mse)\n",
    "print('r2_score_train: ', r2_train)\n",
    "print('r2_score_test: ', r2_test)\n",
    "print('Cross Validation Score: ', cv.mean())\n",
    "\n",
    "scores.append({'KNeighbors Regressor': {'R2_Score_train': r2_train,'R2_Score_test':r2_test, 'MSE': mse, 'Cross Validation Score': cv.mean()}})\n"
   ]
  },
  {
   "cell_type": "markdown",
   "metadata": {},
   "source": [
    "## Decision Regression"
   ]
  },
  {
   "cell_type": "code",
   "execution_count": 12,
   "metadata": {},
   "outputs": [
    {
     "name": "stdout",
     "output_type": "stream",
     "text": [
      "Best params for DecisionTree Regressor:  {'criterion': 'squared_error', 'max_depth': 6}\n",
      "MSE:  0.2182501299245858\n",
      "r2_score_train:  0.7511013128924121\n",
      "r2_score_test:  0.6423557615256815\n",
      "Cross Validation Score:  0.5664175065761237\n"
     ]
    }
   ],
   "source": [
    "from sklearn.tree import DecisionTreeRegressor\n",
    "\n",
    "estimator = DecisionTreeRegressor(random_state=42)\n",
    "paramgrid = {'max_depth': list(range(1,10)), 'criterion': ['squared_error', 'absolute_error'] }\n",
    "grid_search_decision = GridSearchCV(estimator, paramgrid, cv=5, scoring='r2')\n",
    "grid_search_decision.fit(X_train, y_train)\n",
    "decisiontree_model = grid_search_decision.best_estimator_\n",
    "\n",
    "y_pred_train = decisiontree_model.predict(X_train)\n",
    "y_pred_test = decisiontree_model.predict(X_test)\n",
    "mse = mean_squared_error(y_test, y_pred_test)\n",
    "r2_train = r2_score(y_train, y_pred_train)\n",
    "r2_test = r2_score(y_test, y_pred_test)\n",
    "cv = cross_val_score(decisiontree_model, X_train, y_train, cv=5, scoring='r2')\n",
    "\n",
    "print('Best params for DecisionTree Regressor: ', grid_search_decision.best_params_)\n",
    "print('MSE: ', mse)\n",
    "print('r2_score_train: ', r2_train)\n",
    "print('r2_score_test: ', r2_test)\n",
    "print('Cross Validation Score: ', cv.mean())\n",
    "\n",
    "scores.append({'DecisionTree Regression': {'R2_Score_train': r2_train,'R2_Score_test':r2_test, 'MSE': mse, 'Cross Validation Score': cv.mean()}})\n",
    "\n"
   ]
  },
  {
   "cell_type": "markdown",
   "metadata": {},
   "source": [
    "## Random Forest Regressor"
   ]
  },
  {
   "cell_type": "code",
   "execution_count": 13,
   "metadata": {},
   "outputs": [
    {
     "name": "stdout",
     "output_type": "stream",
     "text": [
      "Best params for RandomForest Regressor:  {'criterion': 'squared_error', 'max_depth': 9, 'n_estimators': 9}\n",
      "MSE:  0.17182733668229727\n",
      "r2_score_train:  0.8448048649625456\n",
      "r2_score_test:  0.7184283143471895\n",
      "Cross Validation Score:  0.6739261182213688\n"
     ]
    }
   ],
   "source": [
    "from sklearn.ensemble import RandomForestRegressor\n",
    "\n",
    "estimator = RandomForestRegressor(random_state=42)\n",
    "paramgrid = {'n_estimators': list(range(1,10)),'max_depth': list(range(1,10)), 'criterion': ['squared_error', 'absolute_error']}\n",
    "grid_search_randomforest = GridSearchCV(estimator, paramgrid, cv=5, scoring='r2')\n",
    "grid_search_randomforest.fit(X_train, y_train)\n",
    "randomforest_model = grid_search_randomforest.best_estimator_\n",
    "\n",
    "y_pred_train = randomforest_model.predict(X_train)\n",
    "y_pred_test = randomforest_model.predict(X_test)\n",
    "mse = mean_squared_error(y_test, y_pred_test)\n",
    "r2_train = r2_score(y_train, y_pred_train)\n",
    "r2_test = r2_score(y_test, y_pred_test)\n",
    "cv = cross_val_score(randomforest_model, X_train, y_train, cv=5, scoring='r2')\n",
    "\n",
    "print('Best params for RandomForest Regressor: ', grid_search_randomforest.best_params_)\n",
    "print('MSE: ', mse)\n",
    "print('r2_score_train: ', r2_train)\n",
    "print('r2_score_test: ', r2_test)\n",
    "print('Cross Validation Score: ', cv.mean())\n",
    "\n",
    "scores.append({'RandomForest Regression': {'R2_Score_train': r2_train,'R2_Score_test':r2_test, 'MSE': mse, 'Cross Validation Score': cv.mean()}})\n",
    "\n"
   ]
  },
  {
   "cell_type": "markdown",
   "metadata": {},
   "source": [
    "## AdaBoost Regressor"
   ]
  },
  {
   "cell_type": "code",
   "execution_count": 14,
   "metadata": {},
   "outputs": [
    {
     "name": "stdout",
     "output_type": "stream",
     "text": [
      "Best params for Adaboost Regressor:  {'learning_rate': 0.1, 'n_estimators': 6}\n",
      "MSE:  0.22319492184043005\n",
      "r2_score_train:  0.5902981498274031\n",
      "r2_score_test:  0.6342527819775495\n",
      "Cross Validation Score:  0.5686903127780095\n"
     ]
    }
   ],
   "source": [
    "from sklearn.ensemble import AdaBoostRegressor\n",
    "\n",
    "estimator = AdaBoostRegressor(random_state=42)\n",
    "paramgrid = {'n_estimators': list(range(1,10)), 'learning_rate': [0.1, 0.5, 1.0]}\n",
    "grid_search_adaboost = GridSearchCV(estimator, paramgrid, cv=5, scoring='r2')\n",
    "grid_search_adaboost.fit(X_train, y_train)\n",
    "adaboost_model = grid_search_adaboost.best_estimator_\n",
    "\n",
    "y_pred_train = adaboost_model.predict(X_train)\n",
    "y_pred_test = adaboost_model.predict(X_test)\n",
    "mse = mean_squared_error(y_test, y_pred_test)\n",
    "r2_train = r2_score(y_train, y_pred_train)\n",
    "r2_test = r2_score(y_test, y_pred_test)\n",
    "cv = cross_val_score(adaboost_model, X_train, y_train, cv=5, scoring='r2')\n",
    "\n",
    "print('Best params for Adaboost Regressor: ', grid_search_adaboost.best_params_)\n",
    "print('MSE: ', mse)\n",
    "print('r2_score_train: ', r2_train)\n",
    "print('r2_score_test: ', r2_test)\n",
    "print('Cross Validation Score: ', cv.mean())\n",
    "\n",
    "scores.append({'AdaBoost Regressor': {'R2_Score_train': r2_train,'R2_Score_test':r2_test, 'MSE': mse, 'Cross Validation Score': cv.mean()}})\n",
    "\n"
   ]
  },
  {
   "cell_type": "markdown",
   "metadata": {},
   "source": [
    "## Gradient Boosting Regressor"
   ]
  },
  {
   "cell_type": "code",
   "execution_count": 11,
   "metadata": {},
   "outputs": [
    {
     "name": "stdout",
     "output_type": "stream",
     "text": [
      "Best params for Gradientboost Regressor:  {'learning_rate': 0.2, 'max_depth': 2, 'n_estimators': 300}\n",
      "MSE:  0.1480285372182897\n",
      "r2_score_train:  0.8604998078306849\n",
      "r2_score_test:  0.7574271617423735\n",
      "Cross Validation Score:  0.7325138094717951\n"
     ]
    }
   ],
   "source": [
    "from sklearn.ensemble import GradientBoostingRegressor\n",
    "from sklearn.model_selection import GridSearchCV\n",
    "estimator = GradientBoostingRegressor(random_state=42)\n",
    "paramgrid = {'n_estimators': [50, 100, 150, 200,250,300], 'learning_rate': [0.01, 0.05, 0.1, 0.2, 0.5,0.8,0.1], 'max_depth': list(range(1,10))}\n",
    "grid_search_gradientboost = GridSearchCV(estimator, paramgrid, cv=5, scoring='r2')\n",
    "grid_search_gradientboost.fit(X_train, y_train)\n",
    "gradientboost_model = grid_search_gradientboost.best_estimator_\n",
    "\n",
    "y_pred_train = gradientboost_model.predict(X_train)\n",
    "y_pred_test = gradientboost_model.predict(X_test)\n",
    "mse = mean_squared_error(y_test, y_pred_test)\n",
    "r2_train = r2_score(y_train, y_pred_train)\n",
    "r2_test = r2_score(y_test, y_pred_test)\n",
    "cv = cross_val_score(gradientboost_model, X_train, y_train, cv=5, scoring='r2')\n",
    "\n",
    "print('Best params for Gradientboost Regressor: ', grid_search_gradientboost.best_params_)\n",
    "print('MSE: ', mse)\n",
    "print('r2_score_train: ', r2_train)\n",
    "print('r2_score_test: ', r2_test)\n",
    "print('Cross Validation Score: ', cv.mean())\n",
    "\n",
    "scores.append({'GradientBoost Regressor': {'R2_Score_train': r2_train,'R2_Score_test':r2_test, 'MSE': mse, 'Cross Validation Score': cv.mean()}})\n"
   ]
  },
  {
   "cell_type": "code",
   "execution_count": null,
   "metadata": {},
   "outputs": [],
   "source": []
  },
  {
   "cell_type": "markdown",
   "metadata": {},
   "source": [
    "## Xgboost Regressor"
   ]
  },
  {
   "cell_type": "code",
   "execution_count": 16,
   "metadata": {},
   "outputs": [
    {
     "name": "stdout",
     "output_type": "stream",
     "text": [
      "Best params for Xgboost Regressor:  {'gamma': 0, 'learning_rate': 0.1, 'max_depth': 4, 'n_estimators': 200}\n",
      "MSE:  0.15235233215345426\n",
      "r2_score_train:  0.8731713623115025\n",
      "r2_score_test:  0.7503418035460674\n",
      "Cross Validation Score:  0.7255026630945629\n"
     ]
    }
   ],
   "source": [
    "from xgboost import XGBRegressor\n",
    "\n",
    "estimator = XGBRegressor(random_state=42)\n",
    "param_grid = {'n_estimators': [50, 100, 150, 200], 'learning_rate': [0.01, 0.05, 0.1, 0.2, 0.5,0.8,0.1], 'max_depth': list(range(1,10)), 'gamma': [0, 0.1, 0.5,1]}\n",
    "grid_search_xgboost = GridSearchCV(estimator, param_grid, cv=5, scoring='r2')\n",
    "grid_search_xgboost.fit(X_train, y_train)\n",
    "xgboost_model = grid_search_xgboost.best_estimator_\n",
    "\n",
    "y_pred_train = xgboost_model.predict(X_train)\n",
    "y_pred_test = xgboost_model.predict(X_test)\n",
    "mse = mean_squared_error(y_test, y_pred_test)\n",
    "r2_train = r2_score(y_train, y_pred_train)\n",
    "r2_test = r2_score(y_test, y_pred_test)\n",
    "cv = cross_val_score(xgboost_model, X_train, y_train, cv=5, scoring='r2')\n",
    "\n",
    "print('Best params for Xgboost Regressor: ', grid_search_xgboost.best_params_)\n",
    "print('MSE: ', mse)\n",
    "print('r2_score_train: ', r2_train)\n",
    "print('r2_score_test: ', r2_test)\n",
    "print('Cross Validation Score: ', cv.mean())\n",
    "\n",
    "scores.append({'Xgboost Regressor': {'R2_Score_train': r2_train,'R2_Score_test':r2_test, 'MSE': mse, 'Cross Validation Score': cv.mean()}})\n",
    "\n",
    "\n",
    "\n"
   ]
  },
  {
   "cell_type": "code",
   "execution_count": 17,
   "metadata": {},
   "outputs": [
    {
     "data": {
      "text/plain": [
       "[{'Linear Regression': {'R2_Score_train': 0.7659135946907334,\n",
       "   'R2_Score_test': 0.7373863447797128,\n",
       "   'MSE': np.float64(0.16025831875917038),\n",
       "   'Cross Validation Score': np.float64(0.7052685825079711)}},\n",
       " {'Lasso Regression': {'R2_Score_train': 0.0,\n",
       "   'R2_Score_test': -0.002937421725182965,\n",
       "   'MSE': np.float64(0.6120362053965209),\n",
       "   'Cross Validation Score': np.float64(-0.0061920203840522435)}},\n",
       " {'Ridge Regression': {'R2_Score_train': 0.7607925578139166,\n",
       "   'R2_Score_test': 0.741479037183256,\n",
       "   'MSE': 0.15776077915773534,\n",
       "   'Cross Validation Score': 0.7082008331796612}},\n",
       " {'KNeighbors Regressor': {'R2_Score_train': 0.6853521932714332,\n",
       "   'R2_Score_test': 0.6772728982104551,\n",
       "   'MSE': np.float64(0.19694216855337648),\n",
       "   'Cross Validation Score': np.float64(0.6206688721108049)}},\n",
       " {'DecisionTree Regression': {'R2_Score_train': 0.7511013128924121,\n",
       "   'R2_Score_test': 0.6423557615256815,\n",
       "   'MSE': np.float64(0.2182501299245858),\n",
       "   'Cross Validation Score': np.float64(0.5664175065761237)}},\n",
       " {'RandomForest Regression': {'R2_Score_train': 0.8448048649625456,\n",
       "   'R2_Score_test': 0.7184283143471895,\n",
       "   'MSE': np.float64(0.17182733668229727),\n",
       "   'Cross Validation Score': np.float64(0.6739261182213688)}},\n",
       " {'AdaBoost Regressor': {'R2_Score_train': 0.5902981498274031,\n",
       "   'R2_Score_test': 0.6342527819775495,\n",
       "   'MSE': np.float64(0.22319492184043005),\n",
       "   'Cross Validation Score': np.float64(0.5686903127780095)}},\n",
       " {'GradientBoost Regressor': {'R2_Score_train': 0.8338428993877316,\n",
       "   'R2_Score_test': 0.7542733688809228,\n",
       "   'MSE': np.float64(0.14995311932452787),\n",
       "   'Cross Validation Score': np.float64(0.7274877059379152)}},\n",
       " {'Xgboost Regressor': {'R2_Score_train': 0.8731713623115025,\n",
       "   'R2_Score_test': 0.7503418035460674,\n",
       "   'MSE': np.float64(0.15235233215345426),\n",
       "   'Cross Validation Score': np.float64(0.7255026630945629)}}]"
      ]
     },
     "execution_count": 17,
     "metadata": {},
     "output_type": "execute_result"
    }
   ],
   "source": [
    "scores"
   ]
  },
  {
   "cell_type": "code",
   "execution_count": 18,
   "metadata": {},
   "outputs": [
    {
     "data": {
      "text/html": [
       "<div>\n",
       "<style scoped>\n",
       "    .dataframe tbody tr th:only-of-type {\n",
       "        vertical-align: middle;\n",
       "    }\n",
       "\n",
       "    .dataframe tbody tr th {\n",
       "        vertical-align: top;\n",
       "    }\n",
       "\n",
       "    .dataframe thead th {\n",
       "        text-align: right;\n",
       "    }\n",
       "</style>\n",
       "<table border=\"1\" class=\"dataframe\">\n",
       "  <thead>\n",
       "    <tr style=\"text-align: right;\">\n",
       "      <th></th>\n",
       "      <th>Model</th>\n",
       "      <th>R2_Train</th>\n",
       "      <th>R2_Test</th>\n",
       "      <th>MSE</th>\n",
       "      <th>Cross Validation Score</th>\n",
       "    </tr>\n",
       "  </thead>\n",
       "  <tbody>\n",
       "    <tr>\n",
       "      <th>0</th>\n",
       "      <td>Linear Regression</td>\n",
       "      <td>0.765914</td>\n",
       "      <td>0.737386</td>\n",
       "      <td>0.160258</td>\n",
       "      <td>0.705269</td>\n",
       "    </tr>\n",
       "    <tr>\n",
       "      <th>1</th>\n",
       "      <td>Lasso Regression</td>\n",
       "      <td>0.000000</td>\n",
       "      <td>-0.002937</td>\n",
       "      <td>0.612036</td>\n",
       "      <td>-0.006192</td>\n",
       "    </tr>\n",
       "    <tr>\n",
       "      <th>2</th>\n",
       "      <td>Ridge Regression</td>\n",
       "      <td>0.760793</td>\n",
       "      <td>0.741479</td>\n",
       "      <td>0.157761</td>\n",
       "      <td>0.708201</td>\n",
       "    </tr>\n",
       "    <tr>\n",
       "      <th>3</th>\n",
       "      <td>KNeighbors Regressor</td>\n",
       "      <td>0.685352</td>\n",
       "      <td>0.677273</td>\n",
       "      <td>0.196942</td>\n",
       "      <td>0.620669</td>\n",
       "    </tr>\n",
       "    <tr>\n",
       "      <th>4</th>\n",
       "      <td>DecisionTree Regression</td>\n",
       "      <td>0.751101</td>\n",
       "      <td>0.642356</td>\n",
       "      <td>0.218250</td>\n",
       "      <td>0.566418</td>\n",
       "    </tr>\n",
       "    <tr>\n",
       "      <th>5</th>\n",
       "      <td>RandomForest Regression</td>\n",
       "      <td>0.844805</td>\n",
       "      <td>0.718428</td>\n",
       "      <td>0.171827</td>\n",
       "      <td>0.673926</td>\n",
       "    </tr>\n",
       "    <tr>\n",
       "      <th>6</th>\n",
       "      <td>AdaBoost Regressor</td>\n",
       "      <td>0.590298</td>\n",
       "      <td>0.634253</td>\n",
       "      <td>0.223195</td>\n",
       "      <td>0.568690</td>\n",
       "    </tr>\n",
       "    <tr>\n",
       "      <th>7</th>\n",
       "      <td>GradientBoost Regressor</td>\n",
       "      <td>0.833843</td>\n",
       "      <td>0.754273</td>\n",
       "      <td>0.149953</td>\n",
       "      <td>0.727488</td>\n",
       "    </tr>\n",
       "    <tr>\n",
       "      <th>8</th>\n",
       "      <td>Xgboost Regressor</td>\n",
       "      <td>0.873171</td>\n",
       "      <td>0.750342</td>\n",
       "      <td>0.152352</td>\n",
       "      <td>0.725503</td>\n",
       "    </tr>\n",
       "  </tbody>\n",
       "</table>\n",
       "</div>"
      ],
      "text/plain": [
       "                     Model  R2_Train   R2_Test       MSE  \\\n",
       "0        Linear Regression  0.765914  0.737386  0.160258   \n",
       "1         Lasso Regression  0.000000 -0.002937  0.612036   \n",
       "2         Ridge Regression  0.760793  0.741479  0.157761   \n",
       "3     KNeighbors Regressor  0.685352  0.677273  0.196942   \n",
       "4  DecisionTree Regression  0.751101  0.642356  0.218250   \n",
       "5  RandomForest Regression  0.844805  0.718428  0.171827   \n",
       "6       AdaBoost Regressor  0.590298  0.634253  0.223195   \n",
       "7  GradientBoost Regressor  0.833843  0.754273  0.149953   \n",
       "8        Xgboost Regressor  0.873171  0.750342  0.152352   \n",
       "\n",
       "   Cross Validation Score  \n",
       "0                0.705269  \n",
       "1               -0.006192  \n",
       "2                0.708201  \n",
       "3                0.620669  \n",
       "4                0.566418  \n",
       "5                0.673926  \n",
       "6                0.568690  \n",
       "7                0.727488  \n",
       "8                0.725503  "
      ]
     },
     "execution_count": 18,
     "metadata": {},
     "output_type": "execute_result"
    }
   ],
   "source": [
    "model_name = []\n",
    "r2_train = []\n",
    "r2_test = []\n",
    "mse = []\n",
    "cv = []\n",
    "#pd.reset_option('display.float_format')\n",
    "for model in scores:\n",
    "    for name, metrics in model.items():\n",
    "        model_name.append(name)\n",
    "        r2_train.append(float(metrics['R2_Score_train']))\n",
    "        r2_test .append(float(metrics['R2_Score_test']))\n",
    "        mse.append(float(metrics['MSE']))\n",
    "        cv.append(float(metrics['Cross Validation Score']))\n",
    "\n",
    "scores_df = pd.DataFrame({\n",
    "    'Model': model_name,\n",
    "    'R2_Train': r2_train,\n",
    "    'R2_Test': r2_test,\n",
    "    'MSE': mse,\n",
    "    'Cross Validation Score': cv\n",
    "})\n",
    "\n",
    "scores_df"
   ]
  },
  {
   "cell_type": "markdown",
   "metadata": {},
   "source": [
    "##### The best model should be XGBoost"
   ]
  },
  {
   "cell_type": "code",
   "execution_count": null,
   "metadata": {},
   "outputs": [],
   "source": []
  }
 ],
 "metadata": {
  "kernelspec": {
   "display_name": "Python 3",
   "language": "python",
   "name": "python3"
  },
  "language_info": {
   "codemirror_mode": {
    "name": "ipython",
    "version": 3
   },
   "file_extension": ".py",
   "mimetype": "text/x-python",
   "name": "python",
   "nbconvert_exporter": "python",
   "pygments_lexer": "ipython3",
   "version": "3.11.5"
  }
 },
 "nbformat": 4,
 "nbformat_minor": 2
}
